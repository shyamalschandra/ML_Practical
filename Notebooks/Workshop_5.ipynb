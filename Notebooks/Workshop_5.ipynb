{
  "nbformat": 4,
  "nbformat_minor": 0,
  "metadata": {
    "kernelspec": {
      "display_name": "Python 3",
      "language": "python",
      "name": "python3"
    },
    "language_info": {
      "codemirror_mode": {
        "name": "ipython",
        "version": 3
      },
      "file_extension": ".py",
      "mimetype": "text/x-python",
      "name": "python",
      "nbconvert_exporter": "python",
      "pygments_lexer": "ipython3",
      "version": "3.8.3"
    },
    "colab": {
      "name": "Workshop 5 NEW.ipynb",
      "provenance": []
    }
  },
  "cells": [
    {
      "cell_type": "markdown",
      "metadata": {
        "id": "XdT7RZ_Vg7Ik"
      },
      "source": [
        "# Workshop #5\n"
      ]
    },
    {
      "cell_type": "markdown",
      "metadata": {
        "id": "5hQjTf4Zg7Im"
      },
      "source": [
        "Welcome to workshop #5! In this workshop, we are going to talk about a classic classification model: K-Nearest Neighbors. We're also going to talk about different ways to evaluate an ML model's performance. "
      ]
    },
    {
      "cell_type": "markdown",
      "metadata": {
        "id": "-ZbIs8zGg7In"
      },
      "source": [
        "Lets jump in!"
      ]
    },
    {
      "cell_type": "markdown",
      "metadata": {
        "id": "CocIsYY7g7I9"
      },
      "source": [
        "Start off my importing our data:"
      ]
    },
    {
      "cell_type": "code",
      "metadata": {
        "id": "1KOQRTmyg7I9",
        "outputId": "b21a8fae-4b56-4778-f9a6-d58434b0566b",
        "colab": {
          "base_uri": "https://localhost:8080/"
        }
      },
      "source": [
        "import pandas as pd\n",
        "import numpy as np\n",
        "\n",
        "url = \"https://raw.githubusercontent.com/uclaacmai/ML_Practical/master/cleaned_titanic_data.csv\"\n",
        "\n",
        "titanic_data = pd.read_csv(url)\n",
        "titanic_data.drop(titanic_data.columns[0], inplace=True, axis = 1)\n",
        "print(titanic_data)"
      ],
      "execution_count": null,
      "outputs": [
        {
          "output_type": "stream",
          "text": [
            "     Survived  Pclass  Sex   Age  SibSp  Parch     Fare  port_Q  port_S\n",
            "0           0       3    0  22.0      1      0   7.2500       0       1\n",
            "1           1       1    1  38.0      1      0  71.2833       0       0\n",
            "2           1       3    1  26.0      0      0   7.9250       0       1\n",
            "3           1       1    1  35.0      1      0  53.1000       0       1\n",
            "4           0       3    0  35.0      0      0   8.0500       0       1\n",
            "..        ...     ...  ...   ...    ...    ...      ...     ...     ...\n",
            "884         0       2    0  27.0      0      0  13.0000       0       1\n",
            "885         1       1    1  19.0      0      0  30.0000       0       1\n",
            "886         0       3    1  28.0      1      2  23.4500       0       1\n",
            "887         1       1    0  26.0      0      0  30.0000       0       0\n",
            "888         0       3    0  32.0      0      0   7.7500       1       0\n",
            "\n",
            "[889 rows x 9 columns]\n"
          ],
          "name": "stdout"
        }
      ]
    },
    {
      "cell_type": "markdown",
      "metadata": {
        "id": "4zkb5XhJg7I_"
      },
      "source": [
        "And now we split our data into train and test groups:"
      ]
    },
    {
      "cell_type": "code",
      "metadata": {
        "id": "9ejb9jkpg7I_",
        "outputId": "71befef9-ff47-4fa2-a295-e0162ebbaeaf",
        "colab": {
          "base_uri": "https://localhost:8080/",
          "height": 195
        }
      },
      "source": [
        "from sklearn.model_selection import train_test_split\n",
        "\n",
        "labels = titanic_data['Survived']\n",
        "features = titanic_data.drop(columns = ['Survived'])\n",
        "\n",
        "features.head()"
      ],
      "execution_count": null,
      "outputs": [
        {
          "output_type": "execute_result",
          "data": {
            "text/html": [
              "<div>\n",
              "<style scoped>\n",
              "    .dataframe tbody tr th:only-of-type {\n",
              "        vertical-align: middle;\n",
              "    }\n",
              "\n",
              "    .dataframe tbody tr th {\n",
              "        vertical-align: top;\n",
              "    }\n",
              "\n",
              "    .dataframe thead th {\n",
              "        text-align: right;\n",
              "    }\n",
              "</style>\n",
              "<table border=\"1\" class=\"dataframe\">\n",
              "  <thead>\n",
              "    <tr style=\"text-align: right;\">\n",
              "      <th></th>\n",
              "      <th>Pclass</th>\n",
              "      <th>Sex</th>\n",
              "      <th>Age</th>\n",
              "      <th>SibSp</th>\n",
              "      <th>Parch</th>\n",
              "      <th>Fare</th>\n",
              "      <th>port_Q</th>\n",
              "      <th>port_S</th>\n",
              "    </tr>\n",
              "  </thead>\n",
              "  <tbody>\n",
              "    <tr>\n",
              "      <th>0</th>\n",
              "      <td>3</td>\n",
              "      <td>0</td>\n",
              "      <td>22.0</td>\n",
              "      <td>1</td>\n",
              "      <td>0</td>\n",
              "      <td>7.2500</td>\n",
              "      <td>0</td>\n",
              "      <td>1</td>\n",
              "    </tr>\n",
              "    <tr>\n",
              "      <th>1</th>\n",
              "      <td>1</td>\n",
              "      <td>1</td>\n",
              "      <td>38.0</td>\n",
              "      <td>1</td>\n",
              "      <td>0</td>\n",
              "      <td>71.2833</td>\n",
              "      <td>0</td>\n",
              "      <td>0</td>\n",
              "    </tr>\n",
              "    <tr>\n",
              "      <th>2</th>\n",
              "      <td>3</td>\n",
              "      <td>1</td>\n",
              "      <td>26.0</td>\n",
              "      <td>0</td>\n",
              "      <td>0</td>\n",
              "      <td>7.9250</td>\n",
              "      <td>0</td>\n",
              "      <td>1</td>\n",
              "    </tr>\n",
              "    <tr>\n",
              "      <th>3</th>\n",
              "      <td>1</td>\n",
              "      <td>1</td>\n",
              "      <td>35.0</td>\n",
              "      <td>1</td>\n",
              "      <td>0</td>\n",
              "      <td>53.1000</td>\n",
              "      <td>0</td>\n",
              "      <td>1</td>\n",
              "    </tr>\n",
              "    <tr>\n",
              "      <th>4</th>\n",
              "      <td>3</td>\n",
              "      <td>0</td>\n",
              "      <td>35.0</td>\n",
              "      <td>0</td>\n",
              "      <td>0</td>\n",
              "      <td>8.0500</td>\n",
              "      <td>0</td>\n",
              "      <td>1</td>\n",
              "    </tr>\n",
              "  </tbody>\n",
              "</table>\n",
              "</div>"
            ],
            "text/plain": [
              "   Pclass  Sex   Age  SibSp  Parch     Fare  port_Q  port_S\n",
              "0       3    0  22.0      1      0   7.2500       0       1\n",
              "1       1    1  38.0      1      0  71.2833       0       0\n",
              "2       3    1  26.0      0      0   7.9250       0       1\n",
              "3       1    1  35.0      1      0  53.1000       0       1\n",
              "4       3    0  35.0      0      0   8.0500       0       1"
            ]
          },
          "metadata": {
            "tags": []
          },
          "execution_count": 2
        }
      ]
    },
    {
      "cell_type": "code",
      "metadata": {
        "id": "rgAIgwIzg7JB",
        "outputId": "af9d727d-e6c2-4a66-ed8a-95265d8984e0",
        "colab": {
          "base_uri": "https://localhost:8080/",
          "height": 195
        }
      },
      "source": [
        "x_train, x_test, y_train, y_test = train_test_split(features, labels, test_size=0.20, random_state=42)\n",
        "x_train.head()"
      ],
      "execution_count": null,
      "outputs": [
        {
          "output_type": "execute_result",
          "data": {
            "text/html": [
              "<div>\n",
              "<style scoped>\n",
              "    .dataframe tbody tr th:only-of-type {\n",
              "        vertical-align: middle;\n",
              "    }\n",
              "\n",
              "    .dataframe tbody tr th {\n",
              "        vertical-align: top;\n",
              "    }\n",
              "\n",
              "    .dataframe thead th {\n",
              "        text-align: right;\n",
              "    }\n",
              "</style>\n",
              "<table border=\"1\" class=\"dataframe\">\n",
              "  <thead>\n",
              "    <tr style=\"text-align: right;\">\n",
              "      <th></th>\n",
              "      <th>Pclass</th>\n",
              "      <th>Sex</th>\n",
              "      <th>Age</th>\n",
              "      <th>SibSp</th>\n",
              "      <th>Parch</th>\n",
              "      <th>Fare</th>\n",
              "      <th>port_Q</th>\n",
              "      <th>port_S</th>\n",
              "    </tr>\n",
              "  </thead>\n",
              "  <tbody>\n",
              "    <tr>\n",
              "      <th>707</th>\n",
              "      <td>1</td>\n",
              "      <td>1</td>\n",
              "      <td>22.0</td>\n",
              "      <td>0</td>\n",
              "      <td>0</td>\n",
              "      <td>151.5500</td>\n",
              "      <td>0</td>\n",
              "      <td>1</td>\n",
              "    </tr>\n",
              "    <tr>\n",
              "      <th>239</th>\n",
              "      <td>3</td>\n",
              "      <td>1</td>\n",
              "      <td>28.0</td>\n",
              "      <td>1</td>\n",
              "      <td>0</td>\n",
              "      <td>14.4542</td>\n",
              "      <td>0</td>\n",
              "      <td>0</td>\n",
              "    </tr>\n",
              "    <tr>\n",
              "      <th>381</th>\n",
              "      <td>3</td>\n",
              "      <td>0</td>\n",
              "      <td>32.0</td>\n",
              "      <td>0</td>\n",
              "      <td>0</td>\n",
              "      <td>7.9250</td>\n",
              "      <td>0</td>\n",
              "      <td>1</td>\n",
              "    </tr>\n",
              "    <tr>\n",
              "      <th>791</th>\n",
              "      <td>3</td>\n",
              "      <td>1</td>\n",
              "      <td>28.0</td>\n",
              "      <td>8</td>\n",
              "      <td>2</td>\n",
              "      <td>69.5500</td>\n",
              "      <td>0</td>\n",
              "      <td>1</td>\n",
              "    </tr>\n",
              "    <tr>\n",
              "      <th>682</th>\n",
              "      <td>3</td>\n",
              "      <td>0</td>\n",
              "      <td>14.0</td>\n",
              "      <td>5</td>\n",
              "      <td>2</td>\n",
              "      <td>46.9000</td>\n",
              "      <td>0</td>\n",
              "      <td>1</td>\n",
              "    </tr>\n",
              "  </tbody>\n",
              "</table>\n",
              "</div>"
            ],
            "text/plain": [
              "     Pclass  Sex   Age  SibSp  Parch      Fare  port_Q  port_S\n",
              "707       1    1  22.0      0      0  151.5500       0       1\n",
              "239       3    1  28.0      1      0   14.4542       0       0\n",
              "381       3    0  32.0      0      0    7.9250       0       1\n",
              "791       3    1  28.0      8      2   69.5500       0       1\n",
              "682       3    0  14.0      5      2   46.9000       0       1"
            ]
          },
          "metadata": {
            "tags": []
          },
          "execution_count": 3
        }
      ]
    },
    {
      "cell_type": "markdown",
      "metadata": {
        "id": "HU_wFCs9g7JD"
      },
      "source": [
        "Let's verify that the train/test split actually worked:"
      ]
    },
    {
      "cell_type": "code",
      "metadata": {
        "id": "z6anePUZg7JE",
        "outputId": "f667a340-1138-464b-fcd0-a47201df8299",
        "colab": {
          "base_uri": "https://localhost:8080/"
        }
      },
      "source": [
        "print(x_train.shape)\n",
        "print(x_test.shape)\n",
        "print(y_train.shape)\n",
        "print(y_test.shape)\n",
        "print(titanic_data.shape)\n",
        "print(len(x_train) + len(x_test))"
      ],
      "execution_count": null,
      "outputs": [
        {
          "output_type": "stream",
          "text": [
            "(711, 8)\n",
            "(178, 8)\n",
            "(711,)\n",
            "(178,)\n",
            "(889, 9)\n",
            "889\n"
          ],
          "name": "stdout"
        }
      ]
    },
    {
      "cell_type": "markdown",
      "metadata": {
        "id": "AYxzs7r_g7Jd"
      },
      "source": [
        "### K Nearest Neighbors"
      ]
    },
    {
      "cell_type": "markdown",
      "metadata": {
        "id": "n6eoQsulg7Je"
      },
      "source": [
        "K Nearest Neighbors is another ML algorithm that is very useful for classification tasks like ours! Let's say you're about to go vote in the upcoming Democratic Primaries, but don't know too much about the candidates. You decide to ask the five people near you who they are voting for. Three of these people say they are voting for Candidate A, and two say they are voting for Candidate B. You decide that since more people decided to vote for Candidate A, you will too. "
      ]
    },
    {
      "cell_type": "markdown",
      "metadata": {
        "id": "6sv75gnSg7Je"
      },
      "source": [
        "A K Nearest Neighbors model works in a similar way. We graph datapoints based on their features, and then for each data point, assign it the value of those nearest to it. Here's a visual example:"
      ]
    },
    {
      "cell_type": "code",
      "metadata": {
        "id": "TR5BFKSog7Je",
        "outputId": "cb28ea07-7546-4b82-abf8-0fc6c3b4ecba",
        "colab": {
          "base_uri": "https://localhost:8080/",
          "height": 536
        }
      },
      "source": [
        "from IPython.display import Image\n",
        "\n",
        "img_url = \"https://res.cloudinary.com/dyd911kmh/image/upload/f_auto,q_auto:best/v1531424125/KNN_final1_ibdm8a.png\"\n",
        "Image(url=img_url)"
      ],
      "execution_count": null,
      "outputs": [
        {
          "output_type": "execute_result",
          "data": {
            "text/html": [
              "<img src=\"https://res.cloudinary.com/dyd911kmh/image/upload/f_auto,q_auto:best/v1531424125/KNN_final1_ibdm8a.png\"/>"
            ],
            "text/plain": [
              "<IPython.core.display.Image object>"
            ]
          },
          "metadata": {
            "tags": []
          },
          "execution_count": 5
        }
      ]
    },
    {
      "cell_type": "markdown",
      "metadata": {
        "id": "1j7G1jSYg7Jf"
      },
      "source": [
        "Let's start with the assumption that our we are looking at the three nearest neighbors, so k is equal to three. In the graph on the top left, we have plotted the classified data we have, and have also placed the data point we want to classify in yellow. Next, in the top right graph, we measure the distance of our new data point to its nearest neighbors. In the bottom graph, we can see that of the three closest nearest neighbors to our new datapoint, two are Class B, and one is Class A. Since the majority of the three closest neigbors are Class B, we will label our new datapoint as Class B as well."
      ]
    },
    {
      "cell_type": "code",
      "metadata": {
        "id": "E9iRzDdJg7Jf",
        "outputId": "78923cc7-47f3-4a46-e6b0-39cdb7c56ec6",
        "colab": {
          "base_uri": "https://localhost:8080/",
          "height": 399
        }
      },
      "source": [
        "img_url = \"https://miro.medium.com/max/1300/0*Sk18h9op6uK9EpT8.\"\n",
        "Image(url=img_url)"
      ],
      "execution_count": null,
      "outputs": [
        {
          "output_type": "execute_result",
          "data": {
            "text/html": [
              "<img src=\"https://miro.medium.com/max/1300/0*Sk18h9op6uK9EpT8.\"/>"
            ],
            "text/plain": [
              "<IPython.core.display.Image object>"
            ]
          },
          "metadata": {
            "tags": []
          },
          "execution_count": 6
        }
      ]
    },
    {
      "cell_type": "markdown",
      "metadata": {
        "id": "qZBwoGshIuf4"
      },
      "source": [
        "Questions to think about\n",
        "\n",
        "1. What would we classify our point in green if K=1? If K=3? K=8? K=20?\n",
        "\n",
        "2. Is it possible for us to obtain 0 training error?\n",
        "\n",
        "3. Why would you almost always have a gap between training and testing error?"
      ]
    },
    {
      "cell_type": "markdown",
      "metadata": {
        "id": "0Q-mHPxqg7Jg"
      },
      "source": [
        "Let's implement KNN using scikit learn:"
      ]
    },
    {
      "cell_type": "code",
      "metadata": {
        "id": "vTaKFuFxg7Jg",
        "outputId": "00dec064-78cd-4865-c5fc-7e2fbad12be5",
        "colab": {
          "base_uri": "https://localhost:8080/"
        }
      },
      "source": [
        "from sklearn.neighbors import KNeighborsClassifier\n",
        "\n",
        "# Initialize a vanilla kNN model\n",
        "knn_model = KNeighborsClassifier()\n",
        "# Fit it to the training data\n",
        "knn_model.fit(x_train, y_train)\n",
        "\n",
        "print(\"Train accuracy: \" + str(knn_model.score(x_train, y_train)))\n",
        "print(\"Test accuracy: \" + str(knn_model.score(x_test, y_test)))"
      ],
      "execution_count": null,
      "outputs": [
        {
          "output_type": "stream",
          "text": [
            "Train accuracy: 0.8016877637130801\n",
            "Test accuracy: 0.6853932584269663\n"
          ],
          "name": "stdout"
        }
      ]
    },
    {
      "cell_type": "markdown",
      "metadata": {
        "id": "ijoEleW-g7Ji"
      },
      "source": [
        "We can change the number of neighbors we survey using sklearn's model with the n_neighbors parameter:"
      ]
    },
    {
      "cell_type": "code",
      "metadata": {
        "id": "_fFk5eKpg7Ji",
        "outputId": "db9715b7-ccb9-49c3-af66-21f22a426be6",
        "colab": {
          "base_uri": "https://localhost:8080/"
        }
      },
      "source": [
        "from sklearn.neighbors import KNeighborsClassifier\n",
        "\n",
        "knn_model = KNeighborsClassifier(n_neighbors = 3).fit(x_train, y_train)\n",
        "\n",
        "print(\"Train accuracy: \" + str(knn_model.score(x_train, y_train)))\n",
        "print(\"Test accuracy: \" + str(knn_model.score(x_test, y_test)))"
      ],
      "execution_count": null,
      "outputs": [
        {
          "output_type": "stream",
          "text": [
            "Train accuracy: 0.8438818565400844\n",
            "Test accuracy: 0.7247191011235955\n"
          ],
          "name": "stdout"
        }
      ]
    },
    {
      "cell_type": "markdown",
      "metadata": {
        "id": "aMh_2ogkg7Jj"
      },
      "source": [
        "Hold up, what happened here? Our train accuracy is high, but our test accuracy is extremely low. Once again, this is an example of overfitting. Unfortunately, if we don't have an adequate amount of data, a KNN is likely to overfit. This is called the curse of dimensionality."
      ]
    },
    {
      "cell_type": "code",
      "metadata": {
        "id": "vg4iZchBg7Jj",
        "outputId": "eb725993-67d7-4060-a7f4-7b8f1cdd9bf4",
        "colab": {
          "base_uri": "https://localhost:8080/",
          "height": 347
        }
      },
      "source": [
        "img_url = \"https://www.visiondummy.com/wp-content/uploads/2014/04/dimensionality_vs_performance.png\"\n",
        "Image(url=img_url)"
      ],
      "execution_count": null,
      "outputs": [
        {
          "output_type": "execute_result",
          "data": {
            "text/html": [
              "<img src=\"https://www.visiondummy.com/wp-content/uploads/2014/04/dimensionality_vs_performance.png\"/>"
            ],
            "text/plain": [
              "<IPython.core.display.Image object>"
            ]
          },
          "metadata": {
            "tags": []
          },
          "execution_count": 10
        }
      ]
    },
    {
      "cell_type": "markdown",
      "metadata": {
        "id": "ELpjqRlng7Jk"
      },
      "source": [
        "The curse of dimensionality essentially says that as we increase the number of features in our model, classifier performance will likely drop if we don't exponentially increase the amount of data. In our case, we've likely given the model too many features to handle."
      ]
    },
    {
      "cell_type": "markdown",
      "metadata": {
        "id": "_1oE8Owmg7Jk"
      },
      "source": [
        "Let's see what we can do about this. Let's reduce the number of features our model looks at and see if that helps."
      ]
    },
    {
      "cell_type": "code",
      "metadata": {
        "id": "NYsXJeVwg7Jk",
        "outputId": "4b43c95a-8518-4e4a-f50e-f5e977eb3132",
        "colab": {
          "base_uri": "https://localhost:8080/",
          "height": 195
        }
      },
      "source": [
        "new_data = titanic_data.drop(columns = [\"SibSp\", \"Fare\", \"port_Q\", \"port_S\"])\n",
        "new_data.head()\n"
      ],
      "execution_count": null,
      "outputs": [
        {
          "output_type": "execute_result",
          "data": {
            "text/html": [
              "<div>\n",
              "<style scoped>\n",
              "    .dataframe tbody tr th:only-of-type {\n",
              "        vertical-align: middle;\n",
              "    }\n",
              "\n",
              "    .dataframe tbody tr th {\n",
              "        vertical-align: top;\n",
              "    }\n",
              "\n",
              "    .dataframe thead th {\n",
              "        text-align: right;\n",
              "    }\n",
              "</style>\n",
              "<table border=\"1\" class=\"dataframe\">\n",
              "  <thead>\n",
              "    <tr style=\"text-align: right;\">\n",
              "      <th></th>\n",
              "      <th>Survived</th>\n",
              "      <th>Pclass</th>\n",
              "      <th>Sex</th>\n",
              "      <th>Age</th>\n",
              "      <th>Parch</th>\n",
              "    </tr>\n",
              "  </thead>\n",
              "  <tbody>\n",
              "    <tr>\n",
              "      <th>0</th>\n",
              "      <td>0</td>\n",
              "      <td>3</td>\n",
              "      <td>0</td>\n",
              "      <td>22.0</td>\n",
              "      <td>0</td>\n",
              "    </tr>\n",
              "    <tr>\n",
              "      <th>1</th>\n",
              "      <td>1</td>\n",
              "      <td>1</td>\n",
              "      <td>1</td>\n",
              "      <td>38.0</td>\n",
              "      <td>0</td>\n",
              "    </tr>\n",
              "    <tr>\n",
              "      <th>2</th>\n",
              "      <td>1</td>\n",
              "      <td>3</td>\n",
              "      <td>1</td>\n",
              "      <td>26.0</td>\n",
              "      <td>0</td>\n",
              "    </tr>\n",
              "    <tr>\n",
              "      <th>3</th>\n",
              "      <td>1</td>\n",
              "      <td>1</td>\n",
              "      <td>1</td>\n",
              "      <td>35.0</td>\n",
              "      <td>0</td>\n",
              "    </tr>\n",
              "    <tr>\n",
              "      <th>4</th>\n",
              "      <td>0</td>\n",
              "      <td>3</td>\n",
              "      <td>0</td>\n",
              "      <td>35.0</td>\n",
              "      <td>0</td>\n",
              "    </tr>\n",
              "  </tbody>\n",
              "</table>\n",
              "</div>"
            ],
            "text/plain": [
              "   Survived  Pclass  Sex   Age  Parch\n",
              "0         0       3    0  22.0      0\n",
              "1         1       1    1  38.0      0\n",
              "2         1       3    1  26.0      0\n",
              "3         1       1    1  35.0      0\n",
              "4         0       3    0  35.0      0"
            ]
          },
          "metadata": {
            "tags": []
          },
          "execution_count": 11
        }
      ]
    },
    {
      "cell_type": "markdown",
      "metadata": {
        "id": "vLEhlDxQg7Jl"
      },
      "source": [
        "Now for our train test split, as per standard procedure:"
      ]
    },
    {
      "cell_type": "code",
      "metadata": {
        "id": "5yCUcItZg7Jl",
        "outputId": "b3f87c63-751a-4ea3-be7c-b0588365a0bb",
        "colab": {
          "base_uri": "https://localhost:8080/",
          "height": 195
        }
      },
      "source": [
        "features = new_data.drop(columns = [\"Survived\"])\n",
        "labels = new_data[\"Survived\"]\n",
        "\n",
        "x_train, x_test, y_train, y_test = train_test_split(features, labels, test_size=0.20, random_state=42)\n",
        "\n",
        "x_train.head()"
      ],
      "execution_count": null,
      "outputs": [
        {
          "output_type": "execute_result",
          "data": {
            "text/html": [
              "<div>\n",
              "<style scoped>\n",
              "    .dataframe tbody tr th:only-of-type {\n",
              "        vertical-align: middle;\n",
              "    }\n",
              "\n",
              "    .dataframe tbody tr th {\n",
              "        vertical-align: top;\n",
              "    }\n",
              "\n",
              "    .dataframe thead th {\n",
              "        text-align: right;\n",
              "    }\n",
              "</style>\n",
              "<table border=\"1\" class=\"dataframe\">\n",
              "  <thead>\n",
              "    <tr style=\"text-align: right;\">\n",
              "      <th></th>\n",
              "      <th>Pclass</th>\n",
              "      <th>Sex</th>\n",
              "      <th>Age</th>\n",
              "      <th>Parch</th>\n",
              "    </tr>\n",
              "  </thead>\n",
              "  <tbody>\n",
              "    <tr>\n",
              "      <th>707</th>\n",
              "      <td>1</td>\n",
              "      <td>1</td>\n",
              "      <td>22.0</td>\n",
              "      <td>0</td>\n",
              "    </tr>\n",
              "    <tr>\n",
              "      <th>239</th>\n",
              "      <td>3</td>\n",
              "      <td>1</td>\n",
              "      <td>28.0</td>\n",
              "      <td>0</td>\n",
              "    </tr>\n",
              "    <tr>\n",
              "      <th>381</th>\n",
              "      <td>3</td>\n",
              "      <td>0</td>\n",
              "      <td>32.0</td>\n",
              "      <td>0</td>\n",
              "    </tr>\n",
              "    <tr>\n",
              "      <th>791</th>\n",
              "      <td>3</td>\n",
              "      <td>1</td>\n",
              "      <td>28.0</td>\n",
              "      <td>2</td>\n",
              "    </tr>\n",
              "    <tr>\n",
              "      <th>682</th>\n",
              "      <td>3</td>\n",
              "      <td>0</td>\n",
              "      <td>14.0</td>\n",
              "      <td>2</td>\n",
              "    </tr>\n",
              "  </tbody>\n",
              "</table>\n",
              "</div>"
            ],
            "text/plain": [
              "     Pclass  Sex   Age  Parch\n",
              "707       1    1  22.0      0\n",
              "239       3    1  28.0      0\n",
              "381       3    0  32.0      0\n",
              "791       3    1  28.0      2\n",
              "682       3    0  14.0      2"
            ]
          },
          "metadata": {
            "tags": []
          },
          "execution_count": 12
        }
      ]
    },
    {
      "cell_type": "code",
      "metadata": {
        "id": "zfR6dt8eg7Jm",
        "outputId": "fb9cc96a-bfad-4e48-904b-2dc5192d9b83",
        "colab": {
          "base_uri": "https://localhost:8080/"
        }
      },
      "source": [
        "knn_model = KNeighborsClassifier(n_neighbors = 3).fit(x_train, y_train)\n",
        "print(\"Train accuracy: \" + str(knn_model.score(x_train, y_train)))\n",
        "print(\"Test accuracy: \" + str(knn_model.score(x_test, y_test)))"
      ],
      "execution_count": null,
      "outputs": [
        {
          "output_type": "stream",
          "text": [
            "Train accuracy: 0.8523206751054853\n",
            "Test accuracy: 0.7865168539325843\n"
          ],
          "name": "stdout"
        }
      ]
    },
    {
      "cell_type": "markdown",
      "metadata": {
        "id": "XZWxwaBgg7Jn"
      },
      "source": [
        "okay.....well that didn't really work. Perhaps we're choosing a poor value for n_neighbors. Let's try some parameter tuning! Here, we'll loop through different values of n_neighbors and see what works the best."
      ]
    },
    {
      "cell_type": "code",
      "metadata": {
        "id": "7UNQYQOEg7Jn"
      },
      "source": [
        "# n = [1, 3, 5, 11, 21, 51, 101, 601]\n",
        "\n",
        "n = range(1, 101, 2)\n",
        "\n",
        "for a in n:\n",
        "    knn_model = KNeighborsClassifier(n_neighbors = a).fit(x_train, y_train)\n",
        "    print(\"Number of neighbors: \" + str(a))\n",
        "    print(\"Train accuracy: \" + str(knn_model.score(x_train, y_train)))\n",
        "    print(\"Test accuracy: \" + str(knn_model.score(x_test, y_test)))\n",
        "    print()"
      ],
      "execution_count": null,
      "outputs": []
    },
    {
      "cell_type": "code",
      "metadata": {
        "id": "lDoMinSNtx80"
      },
      "source": [
        "from sklearn.preprocessing import StandardScaler\n",
        "scaler = StandardScaler()\n",
        "scaler.fit(x_train)\n",
        "x_train = scaler.transform(x_train)\n",
        "x_test = scaler.transform(x_test)"
      ],
      "execution_count": null,
      "outputs": []
    },
    {
      "cell_type": "code",
      "metadata": {
        "id": "i1FQIn_huehY",
        "outputId": "af558371-37a9-49ac-d154-10ed0a4c4c98",
        "colab": {
          "base_uri": "https://localhost:8080/"
        }
      },
      "source": [
        "n = range(1, 101, 2)\n",
        "\n",
        "for a in n:\n",
        "    knn_model = KNeighborsClassifier(n_neighbors = a).fit(x_train, y_train)\n",
        "    print(\"Number of neighbors: \" + str(a))\n",
        "    print(\"Train accuracy: \" + str(knn_model.score(x_train, y_train)))\n",
        "    print(\"Test accuracy: \" + str(knn_model.score(x_test, y_test)))\n",
        "    print()"
      ],
      "execution_count": null,
      "outputs": [
        {
          "output_type": "stream",
          "text": [
            "Number of neighbors: 1\n",
            "Train accuracy: 0.8804500703234881\n",
            "Test accuracy: 0.8146067415730337\n",
            "\n",
            "Number of neighbors: 3\n",
            "Train accuracy: 0.8607594936708861\n",
            "Test accuracy: 0.8258426966292135\n",
            "\n",
            "Number of neighbors: 5\n",
            "Train accuracy: 0.849507735583685\n",
            "Test accuracy: 0.8146067415730337\n",
            "\n",
            "Number of neighbors: 7\n",
            "Train accuracy: 0.8523206751054853\n",
            "Test accuracy: 0.8033707865168539\n",
            "\n",
            "Number of neighbors: 9\n",
            "Train accuracy: 0.8466947960618847\n",
            "Test accuracy: 0.8033707865168539\n",
            "\n",
            "Number of neighbors: 11\n",
            "Train accuracy: 0.8382559774964838\n",
            "Test accuracy: 0.8033707865168539\n",
            "\n",
            "Number of neighbors: 13\n",
            "Train accuracy: 0.8270042194092827\n",
            "Test accuracy: 0.797752808988764\n",
            "\n",
            "Number of neighbors: 15\n",
            "Train accuracy: 0.8270042194092827\n",
            "Test accuracy: 0.8089887640449438\n",
            "\n",
            "Number of neighbors: 17\n",
            "Train accuracy: 0.8185654008438819\n",
            "Test accuracy: 0.8258426966292135\n",
            "\n",
            "Number of neighbors: 19\n",
            "Train accuracy: 0.8171589310829818\n",
            "Test accuracy: 0.8314606741573034\n",
            "\n",
            "Number of neighbors: 21\n",
            "Train accuracy: 0.8115330520393812\n",
            "Test accuracy: 0.848314606741573\n",
            "\n",
            "Number of neighbors: 23\n",
            "Train accuracy: 0.8073136427566807\n",
            "Test accuracy: 0.8202247191011236\n",
            "\n",
            "Number of neighbors: 25\n",
            "Train accuracy: 0.8059071729957806\n",
            "Test accuracy: 0.8258426966292135\n",
            "\n",
            "Number of neighbors: 27\n",
            "Train accuracy: 0.8002812939521801\n",
            "Test accuracy: 0.8146067415730337\n",
            "\n",
            "Number of neighbors: 29\n",
            "Train accuracy: 0.8073136427566807\n",
            "Test accuracy: 0.8089887640449438\n",
            "\n",
            "Number of neighbors: 31\n",
            "Train accuracy: 0.8059071729957806\n",
            "Test accuracy: 0.8089887640449438\n",
            "\n",
            "Number of neighbors: 33\n",
            "Train accuracy: 0.7988748241912799\n",
            "Test accuracy: 0.8033707865168539\n",
            "\n",
            "Number of neighbors: 35\n",
            "Train accuracy: 0.7974683544303798\n",
            "Test accuracy: 0.8033707865168539\n",
            "\n",
            "Number of neighbors: 37\n",
            "Train accuracy: 0.7932489451476793\n",
            "Test accuracy: 0.797752808988764\n",
            "\n",
            "Number of neighbors: 39\n",
            "Train accuracy: 0.7918424753867792\n",
            "Test accuracy: 0.797752808988764\n",
            "\n",
            "Number of neighbors: 41\n",
            "Train accuracy: 0.7960618846694796\n",
            "Test accuracy: 0.7921348314606742\n",
            "\n",
            "Number of neighbors: 43\n",
            "Train accuracy: 0.7918424753867792\n",
            "Test accuracy: 0.797752808988764\n",
            "\n",
            "Number of neighbors: 45\n",
            "Train accuracy: 0.7932489451476793\n",
            "Test accuracy: 0.797752808988764\n",
            "\n",
            "Number of neighbors: 47\n",
            "Train accuracy: 0.7932489451476793\n",
            "Test accuracy: 0.797752808988764\n",
            "\n",
            "Number of neighbors: 49\n",
            "Train accuracy: 0.7946554149085795\n",
            "Test accuracy: 0.797752808988764\n",
            "\n",
            "Number of neighbors: 51\n",
            "Train accuracy: 0.7932489451476793\n",
            "Test accuracy: 0.797752808988764\n",
            "\n",
            "Number of neighbors: 53\n",
            "Train accuracy: 0.7932489451476793\n",
            "Test accuracy: 0.797752808988764\n",
            "\n",
            "Number of neighbors: 55\n",
            "Train accuracy: 0.7918424753867792\n",
            "Test accuracy: 0.7921348314606742\n",
            "\n",
            "Number of neighbors: 57\n",
            "Train accuracy: 0.7960618846694796\n",
            "Test accuracy: 0.797752808988764\n",
            "\n",
            "Number of neighbors: 59\n",
            "Train accuracy: 0.7946554149085795\n",
            "Test accuracy: 0.797752808988764\n",
            "\n",
            "Number of neighbors: 61\n",
            "Train accuracy: 0.7932489451476793\n",
            "Test accuracy: 0.797752808988764\n",
            "\n",
            "Number of neighbors: 63\n",
            "Train accuracy: 0.7946554149085795\n",
            "Test accuracy: 0.797752808988764\n",
            "\n",
            "Number of neighbors: 65\n",
            "Train accuracy: 0.7946554149085795\n",
            "Test accuracy: 0.797752808988764\n",
            "\n",
            "Number of neighbors: 67\n",
            "Train accuracy: 0.7946554149085795\n",
            "Test accuracy: 0.797752808988764\n",
            "\n",
            "Number of neighbors: 69\n",
            "Train accuracy: 0.7918424753867792\n",
            "Test accuracy: 0.797752808988764\n",
            "\n",
            "Number of neighbors: 71\n",
            "Train accuracy: 0.7932489451476793\n",
            "Test accuracy: 0.797752808988764\n",
            "\n",
            "Number of neighbors: 73\n",
            "Train accuracy: 0.7946554149085795\n",
            "Test accuracy: 0.797752808988764\n",
            "\n",
            "Number of neighbors: 75\n",
            "Train accuracy: 0.7918424753867792\n",
            "Test accuracy: 0.797752808988764\n",
            "\n",
            "Number of neighbors: 77\n",
            "Train accuracy: 0.7918424753867792\n",
            "Test accuracy: 0.797752808988764\n",
            "\n",
            "Number of neighbors: 79\n",
            "Train accuracy: 0.7932489451476793\n",
            "Test accuracy: 0.797752808988764\n",
            "\n",
            "Number of neighbors: 81\n",
            "Train accuracy: 0.7946554149085795\n",
            "Test accuracy: 0.797752808988764\n",
            "\n",
            "Number of neighbors: 83\n",
            "Train accuracy: 0.7932489451476793\n",
            "Test accuracy: 0.797752808988764\n",
            "\n",
            "Number of neighbors: 85\n",
            "Train accuracy: 0.7932489451476793\n",
            "Test accuracy: 0.797752808988764\n",
            "\n",
            "Number of neighbors: 87\n",
            "Train accuracy: 0.7918424753867792\n",
            "Test accuracy: 0.797752808988764\n",
            "\n",
            "Number of neighbors: 89\n",
            "Train accuracy: 0.790436005625879\n",
            "Test accuracy: 0.797752808988764\n",
            "\n",
            "Number of neighbors: 91\n",
            "Train accuracy: 0.7918424753867792\n",
            "Test accuracy: 0.797752808988764\n",
            "\n",
            "Number of neighbors: 93\n",
            "Train accuracy: 0.7918424753867792\n",
            "Test accuracy: 0.797752808988764\n",
            "\n",
            "Number of neighbors: 95\n",
            "Train accuracy: 0.7918424753867792\n",
            "Test accuracy: 0.797752808988764\n",
            "\n",
            "Number of neighbors: 97\n",
            "Train accuracy: 0.7918424753867792\n",
            "Test accuracy: 0.797752808988764\n",
            "\n",
            "Number of neighbors: 99\n",
            "Train accuracy: 0.790436005625879\n",
            "Test accuracy: 0.797752808988764\n",
            "\n"
          ],
          "name": "stdout"
        }
      ]
    },
    {
      "cell_type": "markdown",
      "metadata": {
        "id": "XTapepcWNt3a"
      },
      "source": [
        "What's the best way to decide the optimal choice of k?\n",
        "(Hint: Is a train-test split always enough?)"
      ]
    },
    {
      "cell_type": "markdown",
      "metadata": {
        "id": "m4jNsyW9g7Jo"
      },
      "source": [
        "It seems that the best value we have for k is 13, but the performance still isn't amazing. No worries though! This just means that the KNN algorithm is not a good choice for our titanic dataset. This sort of trial and error is very common when you're just starting off in data science or machine learning."
      ]
    },
    {
      "cell_type": "markdown",
      "metadata": {
        "id": "EZz_89OiMgpn"
      },
      "source": [
        "That being said, there are a couple of major advantages of kNN (that are kinda related). Anyone want to take a guess?\n",
        "1. Training is essentially free. \n",
        "2. kNN an 'online' algorithm: can add more data points easily.\n",
        "\n",
        "There's also a third pretty obvious one:\n",
        "3. kNN is easily *interpretable*. "
      ]
    },
    {
      "cell_type": "markdown",
      "metadata": {
        "id": "ST_B7SDcM26D"
      },
      "source": [
        "In ML, you always have a trade-off. When do advantages 1 and 2 above lead to a disadvantage?\n",
        "\n",
        "Prediction can be expensive"
      ]
    },
    {
      "cell_type": "markdown",
      "metadata": {
        "id": "jpfRABQQg7Jo"
      },
      "source": [
        "### Different Scenarios "
      ]
    },
    {
      "cell_type": "markdown",
      "metadata": {
        "id": "llbF_bx5g7Jo"
      },
      "source": [
        "Most of the time, in the real world, the majority of values are measured with accuracy. You get scored on how accurate you were on your exam, and basketball free throws percentage is measured with accuracy, just to name a few. "
      ]
    },
    {
      "cell_type": "markdown",
      "metadata": {
        "id": "8mMD0IGwg7Jo"
      },
      "source": [
        "### Why Accuracy Isn't Always the Best Choice"
      ]
    },
    {
      "cell_type": "markdown",
      "metadata": {
        "id": "bFHbi5aag7Jo"
      },
      "source": [
        "Let's say we were designing and algorithm that identified whether or not objecting coming into Pauley Pavillion were potential civilian hazards (bombs, knives, etc). Well, most people don't bring these types of objects into Pauley Pavillion, because they know of the laws and the consequences of breaking those laws. This model, if trained on data that accurately respected the distribution of objects coming into Pauley would be accurate 99% of the time, as the vast majority of objects coming into Pauley aren't hazardous. Thus, measuring our algorithm with accuracy would be useless here.\n",
        "\n",
        "Let's take another example. Let's say we designed an algorithm that could examine a lottery ticket and tell you whether or not it was going to be a winning ticket. If we simply wrote an algorithm that told you no every time, the algoirhtm with would have an accuracy of 99.999%. But, once again, this algoirhtm would be useless, and would not provide any actual value. Thus, once more, accuracy is not the best way to evaluate this algorithm.\n",
        "\n",
        "There has to be a better way to do this!"
      ]
    },
    {
      "cell_type": "markdown",
      "metadata": {
        "id": "7YBABWlFg7Jp"
      },
      "source": [
        "### Confusion Matrix"
      ]
    },
    {
      "cell_type": "markdown",
      "metadata": {
        "id": "x6nQguowg7Jp"
      },
      "source": [
        "Before we get into a few better stats to measure our models, lets define a few terms. \n",
        "\n",
        "'Result' below refers to the output of the model, expected result is the true value\n",
        "\n",
        "__True Positive__: When the result and expected result are both positive\n",
        "\n",
        "__False Positive__: When the result is positive but the expected result is negative\n",
        "\n",
        "__True Negative__: When the result and expected result are both negative\n",
        "\n",
        "__False Negative__: When the result is negative but the expected result is positive\n",
        "\n",
        "Using these definitions, we can create a useful table known as a __Confusion Matrix__:"
      ]
    },
    {
      "cell_type": "code",
      "metadata": {
        "id": "bRbTi4pgg7Jp",
        "outputId": "6398f5f4-ba83-427a-d0ef-a6bdb13e96ad",
        "colab": {
          "base_uri": "https://localhost:8080/",
          "height": 480
        }
      },
      "source": [
        "from IPython.display import Image\n",
        "img_url = \"https://glassboxmedicine.files.wordpress.com/2019/02/confusion-matrix.png?w=816\"\n",
        "Image(url=img_url)"
      ],
      "execution_count": null,
      "outputs": [
        {
          "output_type": "execute_result",
          "data": {
            "text/html": [
              "<img src=\"https://glassboxmedicine.files.wordpress.com/2019/02/confusion-matrix.png?w=816\"/>"
            ],
            "text/plain": [
              "<IPython.core.display.Image object>"
            ]
          },
          "metadata": {
            "tags": []
          },
          "execution_count": 17
        }
      ]
    },
    {
      "cell_type": "markdown",
      "metadata": {
        "id": "PxfhkyBrg7Jq"
      },
      "source": [
        "A confusion matrix essentially shows a distribution of true positives, false positives, true negatives and false negatives. They are really useful for easily looking at types of mistakes your model is making."
      ]
    },
    {
      "cell_type": "markdown",
      "metadata": {
        "id": "ph_s1ka2g7Jq"
      },
      "source": [
        "Try making a confusion matrix of your own of the following data:"
      ]
    },
    {
      "cell_type": "code",
      "metadata": {
        "id": "1Mgmqs74g7Jq",
        "outputId": "7c5d5b81-2f13-42a3-e51f-683996657bf4",
        "colab": {
          "base_uri": "https://localhost:8080/"
        }
      },
      "source": [
        "import pandas as pd\n",
        "\n",
        "practice_data_url = \"https://raw.githubusercontent.com/uclaacmai/ML_Practical/master/practiceData.csv\"\n",
        "data = pd.read_csv(practice_data_url)\n",
        "\n",
        "print(data.head())"
      ],
      "execution_count": null,
      "outputs": [
        {
          "output_type": "stream",
          "text": [
            "   predicted  expected\n",
            "0          1         1\n",
            "1          1         0\n",
            "2          1         1\n",
            "3          0         1\n",
            "4          1         1\n"
          ],
          "name": "stdout"
        }
      ]
    },
    {
      "cell_type": "code",
      "metadata": {
        "id": "TxjnaX9bzQQH",
        "outputId": "c802d417-870e-43a9-831f-90eb02a95898",
        "colab": {
          "base_uri": "https://localhost:8080/"
        }
      },
      "source": [
        "from sklearn.metrics import confusion_matrix\n",
        "arr = confusion_matrix(data['expected'], data['predicted'])\n",
        "print(arr)"
      ],
      "execution_count": null,
      "outputs": [
        {
          "output_type": "stream",
          "text": [
            "[[11 10]\n",
            " [13 15]]\n"
          ],
          "name": "stdout"
        }
      ]
    },
    {
      "cell_type": "markdown",
      "metadata": {
        "id": "GeKFnEN7g7Jr"
      },
      "source": [
        "### Precision and Recall"
      ]
    },
    {
      "cell_type": "markdown",
      "metadata": {
        "id": "tGluXX7jg7Jr"
      },
      "source": [
        "Using the four definitions we just learned, we can define two better measures of accuracy: __Precision__ and __Recall__:\n",
        "\n",
        "Run the following cell to see their definitions:"
      ]
    },
    {
      "cell_type": "code",
      "metadata": {
        "id": "Y9-rCNYxg7Jr",
        "outputId": "ac76d026-aafe-492d-f426-dcff198ebcdf",
        "colab": {
          "base_uri": "https://localhost:8080/",
          "height": 203
        }
      },
      "source": [
        "from IPython.display import Image\n",
        "img_url = \"https://miro.medium.com/max/2708/1*6NkN_LINs2erxgVJ9rkpUA.png\"\n",
        "Image(url=img_url)"
      ],
      "execution_count": null,
      "outputs": [
        {
          "output_type": "execute_result",
          "data": {
            "text/html": [
              "<img src=\"https://miro.medium.com/max/2708/1*6NkN_LINs2erxgVJ9rkpUA.png\"/>"
            ],
            "text/plain": [
              "<IPython.core.display.Image object>"
            ]
          },
          "metadata": {
            "tags": []
          },
          "execution_count": 20
        }
      ]
    },
    {
      "cell_type": "code",
      "metadata": {
        "id": "DkZvzJ2p03hW",
        "outputId": "19cb9624-a82f-46c7-cb4c-b6009a88e5e2",
        "colab": {
          "base_uri": "https://localhost:8080/"
        }
      },
      "source": [
        "from sklearn.metrics import precision_score\n",
        "from sklearn.metrics import recall_score\n",
        "\n",
        "print(precision_score(data['expected'], data['predicted']))\n",
        "print(recall_score(data['expected'], data['predicted']))"
      ],
      "execution_count": null,
      "outputs": [
        {
          "output_type": "stream",
          "text": [
            "0.6\n",
            "0.5357142857142857\n"
          ],
          "name": "stdout"
        }
      ]
    },
    {
      "cell_type": "markdown",
      "metadata": {
        "id": "aOda8VNeg7Jt"
      },
      "source": [
        "Exercise: calculate the Precision and Recall of the practice data from above! (Hint: See if you can find a Scikit-learn function that will do the hard work for you)"
      ]
    },
    {
      "cell_type": "markdown",
      "metadata": {
        "id": "gVOtB0Lsg7Jt"
      },
      "source": [
        "### Recall Scenarios"
      ]
    },
    {
      "cell_type": "markdown",
      "metadata": {
        "id": "Z7LV2EK4g7Jt"
      },
      "source": [
        "Recall is a good choice to use when it is important to minimimze true negatives. Recall would be a good choice to use in a situation like the security one we outlined earlier. It is obviously much better to check a few extra items than to accidentally let an item that is hazardous."
      ]
    },
    {
      "cell_type": "markdown",
      "metadata": {
        "id": "31ZukDOGg7Jt"
      },
      "source": [
        "### Precision Scenarios"
      ]
    },
    {
      "cell_type": "markdown",
      "metadata": {
        "id": "G7xgnvBBg7Jt"
      },
      "source": [
        "Precision is a good choice when we want to maximize true positives. What this means is that when we say that we have a positive, we are very sure that it is actually a positive. \n",
        "\n",
        "An example where we want high precision is the criminal justice system. When convicting someone, we want to be 100% sure that they are guilty. It is better to let a few guilty people be free than to imprison innocent people."
      ]
    },
    {
      "cell_type": "markdown",
      "metadata": {
        "id": "bmlPm2r2g7Jt"
      },
      "source": [
        "### F1 Score"
      ]
    },
    {
      "cell_type": "markdown",
      "metadata": {
        "id": "swyBYp2Gg7Jt"
      },
      "source": [
        "In most situations, however, we'd want a balance of both Precision and Recall. For example, we could easily get 100% recall by simply marking every item going into Pauley Pavillion as a hazard. In reality of course, this would be extremely unfeasable, as it waste a lot of time for security personnel at Pauley. It would be best if we could find some ideal where we maximize the number of people we catch while minimizing the amount of time wasted. "
      ]
    },
    {
      "cell_type": "markdown",
      "metadata": {
        "id": "0_mG_3Mtg7Ju"
      },
      "source": [
        "In this sort of situation, we should use an F1 Score. Run the following cell to see the definition for an F1 score:"
      ]
    },
    {
      "cell_type": "code",
      "metadata": {
        "id": "Uf84I5vHg7Ju",
        "outputId": "f57f992b-d08c-4388-edd0-6df132d04fc6",
        "colab": {
          "base_uri": "https://localhost:8080/",
          "height": 161
        }
      },
      "source": [
        "from IPython.display import Image\n",
        "img_url = \"https://miro.medium.com/max/1124/1*V27Dd47fxtCB-u561I8nYQ.png\"\n",
        "Image(url=img_url)"
      ],
      "execution_count": null,
      "outputs": [
        {
          "output_type": "execute_result",
          "data": {
            "text/html": [
              "<img src=\"https://miro.medium.com/max/1124/1*V27Dd47fxtCB-u561I8nYQ.png\"/>"
            ],
            "text/plain": [
              "<IPython.core.display.Image object>"
            ]
          },
          "metadata": {
            "tags": []
          },
          "execution_count": 25
        }
      ]
    },
    {
      "cell_type": "code",
      "metadata": {
        "id": "CzorwRKC2YVg",
        "outputId": "f4d38d9f-73d6-4e08-9bfe-c4611335c4e1",
        "colab": {
          "base_uri": "https://localhost:8080/"
        }
      },
      "source": [
        "from sklearn.metrics import f1_score\n",
        "print(f1_score(data['expected'], data['predicted'])) "
      ],
      "execution_count": null,
      "outputs": [
        {
          "output_type": "stream",
          "text": [
            "0.5660377358490566\n"
          ],
          "name": "stdout"
        }
      ]
    },
    {
      "cell_type": "markdown",
      "metadata": {
        "id": "FJgHcdNPg7Jv"
      },
      "source": [
        "Clearly, an F1 score is simply a harmonic mean of Precision and Recall. Use the next cell to find the F1 Score of our practice data!"
      ]
    },
    {
      "cell_type": "markdown",
      "metadata": {
        "id": "PgsupYjMg7Jv"
      },
      "source": [
        "And with that, you should have enough tools to start to evaluate models better! If you're interested in more ways to evaluate your model, do some research on AUC and ROC curves. Please fill out our feedback form here: https://forms.gle/SaZXtekbbQecvnvo9"
      ]
    },
    {
      "cell_type": "markdown",
      "metadata": {
        "id": "wD8DJAOsIQOI"
      },
      "source": [
        "See you next week!"
      ]
    }
  ]
}