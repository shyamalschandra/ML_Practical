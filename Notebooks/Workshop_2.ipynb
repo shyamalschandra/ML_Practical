{
  "nbformat": 4,
  "nbformat_minor": 0,
  "metadata": {
    "colab": {
      "name": "Workshop2.ipynb",
      "provenance": []
    },
    "kernelspec": {
      "name": "python3",
      "display_name": "Python 3"
    }
  },
  "cells": [
    {
      "cell_type": "markdown",
      "metadata": {
        "id": "_2LnrAmDsiLV"
      },
      "source": [
        "**Logistic Regression Review**\n",
        "(10-15 minutes review from Beginner Track slides. Intuition, outputs a probability vector, making a prediction)"
      ]
    },
    {
      "cell_type": "code",
      "metadata": {
        "id": "CwunGiQ2mT_u"
      },
      "source": [
        "#importing libraries\n",
        "import matplotlib as mpl\n",
        "import matplotlib.pyplot as plt\n",
        "import timeit\n",
        "import numpy as np\n",
        "\n",
        "from sklearn.linear_model import LogisticRegression\n",
        "\n",
        "from sklearn import metrics\n",
        "import pandas as pd"
      ],
      "execution_count": null,
      "outputs": []
    },
    {
      "cell_type": "markdown",
      "metadata": {
        "id": "RF-8pKxKniG_"
      },
      "source": [
        "You can import files from your Google Drive. Very convenient!\n"
      ]
    },
    {
      "cell_type": "code",
      "metadata": {
        "id": "vw-xQRf-3cRr",
        "outputId": "1793ed3f-47e0-42c1-e9c7-bf0259f6f22d",
        "colab": {
          "base_uri": "https://localhost:8080/",
          "height": 34
        }
      },
      "source": [
        "from google.colab import drive\n",
        "drive.mount('/content/gdrive')"
      ],
      "execution_count": null,
      "outputs": [
        {
          "output_type": "stream",
          "text": [
            "Mounted at /content/gdrive\n"
          ],
          "name": "stdout"
        }
      ]
    },
    {
      "cell_type": "code",
      "metadata": {
        "id": "gRniyBz2g4ZY",
        "outputId": "81e2d1d1-abf4-4fff-89aa-9681415c677f",
        "colab": {
          "base_uri": "https://localhost:8080/",
          "height": 195
        }
      },
      "source": [
        "# Make sure to change the path if you stored the data\n",
        "# in a different location last time!\n",
        "titanic_data = pd.read_csv('/content/gdrive/My Drive/cleaned_titanic_data.csv', sep=',')\n",
        "titanic_data.head()"
      ],
      "execution_count": null,
      "outputs": [
        {
          "output_type": "execute_result",
          "data": {
            "text/html": [
              "<div>\n",
              "<style scoped>\n",
              "    .dataframe tbody tr th:only-of-type {\n",
              "        vertical-align: middle;\n",
              "    }\n",
              "\n",
              "    .dataframe tbody tr th {\n",
              "        vertical-align: top;\n",
              "    }\n",
              "\n",
              "    .dataframe thead th {\n",
              "        text-align: right;\n",
              "    }\n",
              "</style>\n",
              "<table border=\"1\" class=\"dataframe\">\n",
              "  <thead>\n",
              "    <tr style=\"text-align: right;\">\n",
              "      <th></th>\n",
              "      <th>Unnamed: 0</th>\n",
              "      <th>Survived</th>\n",
              "      <th>Pclass</th>\n",
              "      <th>Sex</th>\n",
              "      <th>Age</th>\n",
              "      <th>SibSp</th>\n",
              "      <th>Parch</th>\n",
              "      <th>Fare</th>\n",
              "      <th>port_Q</th>\n",
              "      <th>port_S</th>\n",
              "    </tr>\n",
              "  </thead>\n",
              "  <tbody>\n",
              "    <tr>\n",
              "      <th>0</th>\n",
              "      <td>0</td>\n",
              "      <td>0</td>\n",
              "      <td>3</td>\n",
              "      <td>0</td>\n",
              "      <td>22.0</td>\n",
              "      <td>1</td>\n",
              "      <td>0</td>\n",
              "      <td>7.2500</td>\n",
              "      <td>0</td>\n",
              "      <td>1</td>\n",
              "    </tr>\n",
              "    <tr>\n",
              "      <th>1</th>\n",
              "      <td>1</td>\n",
              "      <td>1</td>\n",
              "      <td>1</td>\n",
              "      <td>1</td>\n",
              "      <td>38.0</td>\n",
              "      <td>1</td>\n",
              "      <td>0</td>\n",
              "      <td>71.2833</td>\n",
              "      <td>0</td>\n",
              "      <td>0</td>\n",
              "    </tr>\n",
              "    <tr>\n",
              "      <th>2</th>\n",
              "      <td>2</td>\n",
              "      <td>1</td>\n",
              "      <td>3</td>\n",
              "      <td>1</td>\n",
              "      <td>26.0</td>\n",
              "      <td>0</td>\n",
              "      <td>0</td>\n",
              "      <td>7.9250</td>\n",
              "      <td>0</td>\n",
              "      <td>1</td>\n",
              "    </tr>\n",
              "    <tr>\n",
              "      <th>3</th>\n",
              "      <td>3</td>\n",
              "      <td>1</td>\n",
              "      <td>1</td>\n",
              "      <td>1</td>\n",
              "      <td>35.0</td>\n",
              "      <td>1</td>\n",
              "      <td>0</td>\n",
              "      <td>53.1000</td>\n",
              "      <td>0</td>\n",
              "      <td>1</td>\n",
              "    </tr>\n",
              "    <tr>\n",
              "      <th>4</th>\n",
              "      <td>4</td>\n",
              "      <td>0</td>\n",
              "      <td>3</td>\n",
              "      <td>0</td>\n",
              "      <td>35.0</td>\n",
              "      <td>0</td>\n",
              "      <td>0</td>\n",
              "      <td>8.0500</td>\n",
              "      <td>0</td>\n",
              "      <td>1</td>\n",
              "    </tr>\n",
              "  </tbody>\n",
              "</table>\n",
              "</div>"
            ],
            "text/plain": [
              "   Unnamed: 0  Survived  Pclass  Sex  ...  Parch     Fare  port_Q  port_S\n",
              "0           0         0       3    0  ...      0   7.2500       0       1\n",
              "1           1         1       1    1  ...      0  71.2833       0       0\n",
              "2           2         1       3    1  ...      0   7.9250       0       1\n",
              "3           3         1       1    1  ...      0  53.1000       0       1\n",
              "4           4         0       3    0  ...      0   8.0500       0       1\n",
              "\n",
              "[5 rows x 10 columns]"
            ]
          },
          "metadata": {
            "tags": []
          },
          "execution_count": 3
        }
      ]
    },
    {
      "cell_type": "markdown",
      "metadata": {
        "id": "6Honh1sanrMy"
      },
      "source": [
        "We see an annoying column shows up when we read from our previously saved CSV file. Let's drop it!"
      ]
    },
    {
      "cell_type": "code",
      "metadata": {
        "id": "mCg8c4Rbkig3"
      },
      "source": [
        "titanic_data.drop(columns=['Unnamed: 0'], inplace=True)\n",
        "\n",
        "# Alternately, you can do the following though it is inefficient\n",
        "# titanic_data = titanic_data.drop(columns=['Unnamed: 0'], inplace=False)"
      ],
      "execution_count": null,
      "outputs": []
    },
    {
      "cell_type": "code",
      "metadata": {
        "id": "H82q05-blZT_",
        "outputId": "48d45e13-6eda-44f2-c6b4-b8cc989dc244",
        "colab": {
          "base_uri": "https://localhost:8080/",
          "height": 195
        }
      },
      "source": [
        "titanic_data.head()"
      ],
      "execution_count": null,
      "outputs": [
        {
          "output_type": "execute_result",
          "data": {
            "text/html": [
              "<div>\n",
              "<style scoped>\n",
              "    .dataframe tbody tr th:only-of-type {\n",
              "        vertical-align: middle;\n",
              "    }\n",
              "\n",
              "    .dataframe tbody tr th {\n",
              "        vertical-align: top;\n",
              "    }\n",
              "\n",
              "    .dataframe thead th {\n",
              "        text-align: right;\n",
              "    }\n",
              "</style>\n",
              "<table border=\"1\" class=\"dataframe\">\n",
              "  <thead>\n",
              "    <tr style=\"text-align: right;\">\n",
              "      <th></th>\n",
              "      <th>Survived</th>\n",
              "      <th>Pclass</th>\n",
              "      <th>Sex</th>\n",
              "      <th>Age</th>\n",
              "      <th>SibSp</th>\n",
              "      <th>Parch</th>\n",
              "      <th>Fare</th>\n",
              "      <th>port_Q</th>\n",
              "      <th>port_S</th>\n",
              "    </tr>\n",
              "  </thead>\n",
              "  <tbody>\n",
              "    <tr>\n",
              "      <th>0</th>\n",
              "      <td>0</td>\n",
              "      <td>3</td>\n",
              "      <td>0</td>\n",
              "      <td>22.0</td>\n",
              "      <td>1</td>\n",
              "      <td>0</td>\n",
              "      <td>7.2500</td>\n",
              "      <td>0</td>\n",
              "      <td>1</td>\n",
              "    </tr>\n",
              "    <tr>\n",
              "      <th>1</th>\n",
              "      <td>1</td>\n",
              "      <td>1</td>\n",
              "      <td>1</td>\n",
              "      <td>38.0</td>\n",
              "      <td>1</td>\n",
              "      <td>0</td>\n",
              "      <td>71.2833</td>\n",
              "      <td>0</td>\n",
              "      <td>0</td>\n",
              "    </tr>\n",
              "    <tr>\n",
              "      <th>2</th>\n",
              "      <td>1</td>\n",
              "      <td>3</td>\n",
              "      <td>1</td>\n",
              "      <td>26.0</td>\n",
              "      <td>0</td>\n",
              "      <td>0</td>\n",
              "      <td>7.9250</td>\n",
              "      <td>0</td>\n",
              "      <td>1</td>\n",
              "    </tr>\n",
              "    <tr>\n",
              "      <th>3</th>\n",
              "      <td>1</td>\n",
              "      <td>1</td>\n",
              "      <td>1</td>\n",
              "      <td>35.0</td>\n",
              "      <td>1</td>\n",
              "      <td>0</td>\n",
              "      <td>53.1000</td>\n",
              "      <td>0</td>\n",
              "      <td>1</td>\n",
              "    </tr>\n",
              "    <tr>\n",
              "      <th>4</th>\n",
              "      <td>0</td>\n",
              "      <td>3</td>\n",
              "      <td>0</td>\n",
              "      <td>35.0</td>\n",
              "      <td>0</td>\n",
              "      <td>0</td>\n",
              "      <td>8.0500</td>\n",
              "      <td>0</td>\n",
              "      <td>1</td>\n",
              "    </tr>\n",
              "  </tbody>\n",
              "</table>\n",
              "</div>"
            ],
            "text/plain": [
              "   Survived  Pclass  Sex   Age  SibSp  Parch     Fare  port_Q  port_S\n",
              "0         0       3    0  22.0      1      0   7.2500       0       1\n",
              "1         1       1    1  38.0      1      0  71.2833       0       0\n",
              "2         1       3    1  26.0      0      0   7.9250       0       1\n",
              "3         1       1    1  35.0      1      0  53.1000       0       1\n",
              "4         0       3    0  35.0      0      0   8.0500       0       1"
            ]
          },
          "metadata": {
            "tags": []
          },
          "execution_count": 12
        }
      ]
    },
    {
      "cell_type": "markdown",
      "metadata": {
        "id": "gKSrFRpZoZ7i"
      },
      "source": [
        "**Training and Test Split**\n"
      ]
    },
    {
      "cell_type": "markdown",
      "metadata": {
        "id": "Gah9QR7an4mf"
      },
      "source": [
        "It's a good idea to split our data into a training and testing set. The idea is that once we build our model using the training data, we can evaluate its performance on the test data. We can use this information to check if our model is underfitting/overfitting or if it generalizes well to unseen data."
      ]
    },
    {
      "cell_type": "markdown",
      "metadata": {
        "id": "PdIIiC_npX48"
      },
      "source": [
        "One simple way to have a 75:25 split for training and test data. The downside, of course, is that our model has access to less data while training. On the bright side, the test data gives us an indication of how well our model might do in the real world, so we're not taken by surprise later!\n",
        "*Why is training error not a good estimate of the model's performance?*"
      ]
    },
    {
      "cell_type": "code",
      "metadata": {
        "id": "0YMW6u2Bmxk2"
      },
      "source": [
        "from sklearn.model_selection import train_test_split\n",
        "import random\n",
        "np.random.seed(2)\n",
        "\n",
        "# Create a train-test split of 75-25 called train and test"
      ],
      "execution_count": null,
      "outputs": []
    },
    {
      "cell_type": "markdown",
      "metadata": {
        "id": "VxY6RBTDr-0E"
      },
      "source": [
        "It's now important to split both our training and test data into 'X' and 'y': the features and the labels, before we can run logistic regression.\n",
        "(Warning: Do not shuffle your data after this split! Can anyone answer why this would be a bad idea?)"
      ]
    },
    {
      "cell_type": "code",
      "metadata": {
        "id": "EWh4cpNor9qT"
      },
      "source": [
        "train, test = train_test_split(titanic_data, test_size=0.25) \n",
        "\n",
        "# Split the training data into trainX and trainY\n",
        "trainX = train.drop('Survived', axis=1)\n",
        "trainY = train['Survived']\n",
        "\n",
        "# Split the test data into testX and testY\n",
        "testX = test.drop('Survived', axis = 1)\n",
        "testY = test['Survived']"
      ],
      "execution_count": null,
      "outputs": []
    },
    {
      "cell_type": "code",
      "metadata": {
        "id": "TBu-KKCxteGW",
        "outputId": "02a43c3a-b984-4572-a209-23e68ea3812d",
        "colab": {
          "base_uri": "https://localhost:8080/",
          "height": 195
        }
      },
      "source": [
        "trainX.head()"
      ],
      "execution_count": null,
      "outputs": [
        {
          "output_type": "execute_result",
          "data": {
            "text/html": [
              "<div>\n",
              "<style scoped>\n",
              "    .dataframe tbody tr th:only-of-type {\n",
              "        vertical-align: middle;\n",
              "    }\n",
              "\n",
              "    .dataframe tbody tr th {\n",
              "        vertical-align: top;\n",
              "    }\n",
              "\n",
              "    .dataframe thead th {\n",
              "        text-align: right;\n",
              "    }\n",
              "</style>\n",
              "<table border=\"1\" class=\"dataframe\">\n",
              "  <thead>\n",
              "    <tr style=\"text-align: right;\">\n",
              "      <th></th>\n",
              "      <th>Pclass</th>\n",
              "      <th>Sex</th>\n",
              "      <th>Age</th>\n",
              "      <th>SibSp</th>\n",
              "      <th>Parch</th>\n",
              "      <th>Fare</th>\n",
              "      <th>port_Q</th>\n",
              "      <th>port_S</th>\n",
              "    </tr>\n",
              "  </thead>\n",
              "  <tbody>\n",
              "    <tr>\n",
              "      <th>199</th>\n",
              "      <td>3</td>\n",
              "      <td>0</td>\n",
              "      <td>28.0</td>\n",
              "      <td>0</td>\n",
              "      <td>0</td>\n",
              "      <td>9.5000</td>\n",
              "      <td>0</td>\n",
              "      <td>1</td>\n",
              "    </tr>\n",
              "    <tr>\n",
              "      <th>129</th>\n",
              "      <td>3</td>\n",
              "      <td>0</td>\n",
              "      <td>33.0</td>\n",
              "      <td>0</td>\n",
              "      <td>0</td>\n",
              "      <td>7.8958</td>\n",
              "      <td>0</td>\n",
              "      <td>0</td>\n",
              "    </tr>\n",
              "    <tr>\n",
              "      <th>90</th>\n",
              "      <td>3</td>\n",
              "      <td>0</td>\n",
              "      <td>20.0</td>\n",
              "      <td>0</td>\n",
              "      <td>0</td>\n",
              "      <td>7.8542</td>\n",
              "      <td>0</td>\n",
              "      <td>1</td>\n",
              "    </tr>\n",
              "    <tr>\n",
              "      <th>230</th>\n",
              "      <td>3</td>\n",
              "      <td>0</td>\n",
              "      <td>29.0</td>\n",
              "      <td>0</td>\n",
              "      <td>0</td>\n",
              "      <td>7.7750</td>\n",
              "      <td>0</td>\n",
              "      <td>1</td>\n",
              "    </tr>\n",
              "    <tr>\n",
              "      <th>126</th>\n",
              "      <td>3</td>\n",
              "      <td>0</td>\n",
              "      <td>24.0</td>\n",
              "      <td>0</td>\n",
              "      <td>0</td>\n",
              "      <td>7.1417</td>\n",
              "      <td>0</td>\n",
              "      <td>1</td>\n",
              "    </tr>\n",
              "  </tbody>\n",
              "</table>\n",
              "</div>"
            ],
            "text/plain": [
              "     Pclass  Sex   Age  SibSp  Parch    Fare  port_Q  port_S\n",
              "199       3    0  28.0      0      0  9.5000       0       1\n",
              "129       3    0  33.0      0      0  7.8958       0       0\n",
              "90        3    0  20.0      0      0  7.8542       0       1\n",
              "230       3    0  29.0      0      0  7.7750       0       1\n",
              "126       3    0  24.0      0      0  7.1417       0       1"
            ]
          },
          "metadata": {
            "tags": []
          },
          "execution_count": 10
        }
      ]
    },
    {
      "cell_type": "markdown",
      "metadata": {
        "id": "eR-BFRafq_AO"
      },
      "source": [
        "Can anyone guess what the numbers in the first column are? Why?"
      ]
    },
    {
      "cell_type": "code",
      "metadata": {
        "id": "tCSIF7C_thHc",
        "outputId": "dc2ef23a-07cc-404c-a358-c35b3114c8b8",
        "colab": {
          "base_uri": "https://localhost:8080/",
          "height": 118
        }
      },
      "source": [
        "trainY.head()"
      ],
      "execution_count": null,
      "outputs": [
        {
          "output_type": "execute_result",
          "data": {
            "text/plain": [
              "199    0\n",
              "129    0\n",
              "90     0\n",
              "230    0\n",
              "126    1\n",
              "Name: Survived, dtype: int64"
            ]
          },
          "metadata": {
            "tags": []
          },
          "execution_count": 11
        }
      ]
    },
    {
      "cell_type": "markdown",
      "metadata": {
        "id": "A5x-n_vPA_D-"
      },
      "source": [
        "**Data Leakage**"
      ]
    },
    {
      "cell_type": "markdown",
      "metadata": {
        "id": "LPu8lE79BMeC"
      },
      "source": [
        "Let's talk a little bit about data leakage, and how we can avoid it. Does anyone have any ideas what data leakage is?"
      ]
    },
    {
      "cell_type": "markdown",
      "metadata": {
        "id": "RJRCtTpMrj8j"
      },
      "source": [
        "**Implementing Logistic Regression!**"
      ]
    },
    {
      "cell_type": "markdown",
      "metadata": {
        "id": "BcKDEt2frKbg"
      },
      "source": [
        "We want to create a Logistic Regression model. For this, we will be using Scikit Learn. The first step is to visit the documentation page.\n",
        "\n",
        "https://scikit-learn.org/stable/modules/generated/sklearn.linear_model.LogisticRegression.html"
      ]
    },
    {
      "cell_type": "code",
      "metadata": {
        "id": "Zx_LhmA8skU2"
      },
      "source": [
        "# Create an instance of the Logistic Regression class\n",
        "from sklearn.linear_model import LogisticRegression\n",
        "\n",
        "LR_Model = LogisticRegression(max_iter = 300)\n",
        "\n",
        "# Can someone try to explain what an instance of this class means?"
      ],
      "execution_count": null,
      "outputs": []
    },
    {
      "cell_type": "code",
      "metadata": {
        "id": "BBtg_KfYsv6k",
        "outputId": "434148a8-b712-407d-fc62-24fed2e47bcc",
        "colab": {
          "base_uri": "https://localhost:8080/",
          "height": 101
        }
      },
      "source": [
        "# We now need to feed the model with our training data\n",
        "# Just one line! That's how easy it is with Scikit Learn\n",
        "\n",
        "LR_Model.fit(trainX,trainY)\n",
        "\n",
        "# (If there's an error message, see if you can fix it!)"
      ],
      "execution_count": null,
      "outputs": [
        {
          "output_type": "execute_result",
          "data": {
            "text/plain": [
              "LogisticRegression(C=1.0, class_weight=None, dual=False, fit_intercept=True,\n",
              "                   intercept_scaling=1, l1_ratio=None, max_iter=300,\n",
              "                   multi_class='auto', n_jobs=None, penalty='l2',\n",
              "                   random_state=None, solver='lbfgs', tol=0.0001, verbose=0,\n",
              "                   warm_start=False)"
            ]
          },
          "metadata": {
            "tags": []
          },
          "execution_count": 17
        }
      ]
    },
    {
      "cell_type": "code",
      "metadata": {
        "id": "G9450Y1btHIp"
      },
      "source": [
        "# Our model is now trained on the training data\n",
        "# Let's now make a prediction on the training data (Again, just one line!)\n",
        "trainY_pred = LR_Model.predict(trainX)"
      ],
      "execution_count": null,
      "outputs": []
    },
    {
      "cell_type": "code",
      "metadata": {
        "id": "E_itUnyQt29A",
        "outputId": "021168fb-0329-473c-e2cd-2ca6d27ddae1",
        "colab": {
          "base_uri": "https://localhost:8080/",
          "height": 34
        }
      },
      "source": [
        "# Let's now try to measure the training accuracy\n",
        "from sklearn import metrics\n",
        "\n",
        "\n",
        "acc = metrics.accuracy_score(trainY, trainY_pred,normalize=True)\n",
        "print('Logistic Regression:\\t-- train acc %.3f' % acc)"
      ],
      "execution_count": null,
      "outputs": [
        {
          "output_type": "stream",
          "text": [
            "Logistic Regression:\t-- train acc 0.796\n"
          ],
          "name": "stdout"
        }
      ]
    },
    {
      "cell_type": "markdown",
      "metadata": {
        "id": "Vp9vTWmGzw-3"
      },
      "source": [
        "Logistic regression outputs probabilities. Above, the decision process is taken care of by Scikit Learn, but we can get some additional details and customize the model if necessary."
      ]
    },
    {
      "cell_type": "code",
      "metadata": {
        "id": "hP9ZA63SlS9P"
      },
      "source": [
        "# How do we customize the prediction probabilities? Let's discuss\n",
        "# Hint: predict_proba function\n",
        "\n"
      ],
      "execution_count": null,
      "outputs": []
    },
    {
      "cell_type": "markdown",
      "metadata": {
        "id": "jRJbfQe7vDhM"
      },
      "source": [
        "Of course, like we mentioned before, the training accuracy doesn't tell us all that much. Let's see how it does on the test set! (Dw, the code is pretty much the same)"
      ]
    },
    {
      "cell_type": "code",
      "metadata": {
        "id": "K41IprUWvRYx",
        "outputId": "955d4b5d-6a84-425c-e013-e92f9d5bf4ab",
        "colab": {
          "base_uri": "https://localhost:8080/",
          "height": 34
        }
      },
      "source": [
        "# Let's now make predictions on the test data and measure the accuracy. \n",
        "# It's pretty similar to what we did above\n",
        "testY_pred = LR_Model.predict(testX)\n",
        "acc = metrics.accuracy_score(testY, testY_pred,normalize=True)\n",
        "print('Logistic Regression:\\t-- test acc %.3f' % acc)"
      ],
      "execution_count": null,
      "outputs": [
        {
          "output_type": "stream",
          "text": [
            "Logistic Regression:\t-- test acc 0.825\n"
          ],
          "name": "stdout"
        }
      ]
    },
    {
      "cell_type": "markdown",
      "metadata": {
        "id": "uEmCr_euvkTA"
      },
      "source": [
        "This is pretty good! Our test accuracy is pretty close to our training accuracy. This is an indication that our model has generalized well. We have a good ML model on our hands! Or do we?"
      ]
    },
    {
      "cell_type": "markdown",
      "metadata": {
        "id": "ORmodwYru-ao"
      },
      "source": [
        "(Discussion about biased data sets, and always predicting the positive class when 99% of the data is from the positive class) "
      ]
    },
    {
      "cell_type": "markdown",
      "metadata": {
        "id": "_Hk3S6eSwgwl"
      },
      "source": [
        "To verify that our model is actually doing something, it's helpful to think about precision and recall.\n",
        "Precision = true positives / (true positives + false positives)\n",
        "Recall = true positives / (true positives + false negatives)\n",
        "(Discussion about why these are useful metrics)"
      ]
    },
    {
      "cell_type": "code",
      "metadata": {
        "id": "3d4CujLHxXnt"
      },
      "source": [
        "prec = \n",
        "print('Precision is:\\t precision %.3f' % prec)\n",
        "rec = \n",
        "print('Recall is:\\t accuracy %.3f' % rec)"
      ],
      "execution_count": null,
      "outputs": []
    },
    {
      "cell_type": "markdown",
      "metadata": {
        "id": "NdENKha0ceSS"
      },
      "source": [
        "Question: How do you determine which metric is the best to evaluate your model??"
      ]
    },
    {
      "cell_type": "markdown",
      "metadata": {
        "id": "7UiM6SpbdIDb"
      },
      "source": [
        "What is K-fold cross validation?"
      ]
    },
    {
      "cell_type": "code",
      "metadata": {
        "id": "kUP-t_tVCJSk",
        "outputId": "4f94135f-206e-4dbd-d6d4-cdec139efbb2",
        "colab": {
          "base_uri": "https://localhost:8080/",
          "height": 730
        }
      },
      "source": [
        "from IPython.display import Image\n",
        "img_url = \"https://ethen8181.github.io/machine-learning/model_selection/img/kfolds.png\"\n",
        "\n",
        "Image(url=img_url)"
      ],
      "execution_count": null,
      "outputs": [
        {
          "output_type": "execute_result",
          "data": {
            "text/html": [
              "<img src=\"https://ethen8181.github.io/machine-learning/model_selection/img/kfolds.png\"/>"
            ],
            "text/plain": [
              "<IPython.core.display.Image object>"
            ]
          },
          "metadata": {
            "tags": []
          },
          "execution_count": 24
        }
      ]
    },
    {
      "cell_type": "code",
      "metadata": {
        "id": "HET2PqlTfPgv",
        "outputId": "4638a5ae-b18e-4d9c-9a6b-57821a9846b1",
        "colab": {
          "base_uri": "https://localhost:8080/",
          "height": 50
        }
      },
      "source": [
        "#K Fold CV\n",
        "\n",
        "from sklearn.model_selection import KFold\n",
        " \n",
        "titanic_data_X = titanic_data.drop('Survived', axis=1)\n",
        "titanic_data_Y = titanic_data['Survived']\n",
        " \n",
        "kf = KFold(n_splits=5,shuffle=True, random_state=33)\n",
        " \n",
        "train_accs = []\n",
        "test_accs = []\n",
        " \n",
        " \n",
        "for train_index, test_index in kf.split(titanic_data_X):\n",
        "  trainX_k, testX_k = titanic_data_X.iloc[train_index,], titanic_data_X.iloc[test_index,]\n",
        "  trainY_k, testY_k = titanic_data_Y.iloc[train_index,], titanic_data_Y.iloc[test_index,]\n",
        "\n",
        "  LR_Model = LogisticRegression(max_iter = 300)\n",
        "  LR_Model.fit(trainX_k,trainY_k)\n",
        "\n",
        "  trainY_k_pred = LR_Model.predict(trainX_k)\n",
        "  train_acc = metrics.accuracy_score(trainY_k, trainY_k_pred, normalize=True)\n",
        "  train_accs.append(train_acc)\n",
        " \n",
        "  testY_k_pred = LR_Model.predict(testX_k)\n",
        "  test_acc = metrics.accuracy_score(testY_k, testY_k_pred, normalize=True)\n",
        "  test_accs.append(test_acc)\n",
        " \n",
        "mean_train_acc = sum(train_accs)/len(train_accs)\n",
        "mean_test_acc = sum(test_accs)/len(test_accs)\n",
        " \n",
        "print(\"Mean training accuracy:\\t\",mean_train_acc)\n",
        "print(\"Mean testing accuracy:\\t\",mean_test_acc)"
      ],
      "execution_count": null,
      "outputs": [
        {
          "output_type": "stream",
          "text": [
            "Mean training accuracy:\t 0.8028650895241707\n",
            "Mean testing accuracy:\t 0.7997460801117249\n"
          ],
          "name": "stdout"
        }
      ]
    },
    {
      "cell_type": "markdown",
      "metadata": {
        "id": "Hp9Ga80pFcak"
      },
      "source": [
        "That's all for today! Thanks for coming out! Please fill out our feedback form here: https://tinyurl.com/applymltwofeedback"
      ]
    }
  ]
}