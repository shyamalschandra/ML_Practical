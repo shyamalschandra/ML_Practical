{
  "nbformat": 4,
  "nbformat_minor": 0,
  "metadata": {
    "colab": {
      "name": "Workshop2.ipynb",
      "provenance": []
    },
    "kernelspec": {
      "name": "python3",
      "display_name": "Python 3"
    }
  },
  "cells": [
    {
      "cell_type": "markdown",
      "metadata": {
        "id": "_2LnrAmDsiLV",
        "colab_type": "text"
      },
      "source": [
        "**Logistic Regression Review**\n",
        "(10-15 minutes review from Beginner Track slides. Intuition, outputs a probability vector, making a prediction)"
      ]
    },
    {
      "cell_type": "code",
      "metadata": {
        "id": "CwunGiQ2mT_u",
        "colab_type": "code",
        "colab": {}
      },
      "source": [
        "#importing libraries\n",
        "import matplotlib as mpl\n",
        "import matplotlib.pyplot as plt\n",
        "import timeit\n",
        "import numpy as np\n",
        "\n",
        "from sklearn.linear_model import LogisticRegression\n",
        "\n",
        "from sklearn import metrics\n",
        "import pandas as pd"
      ],
      "execution_count": 0,
      "outputs": []
    },
    {
      "cell_type": "markdown",
      "metadata": {
        "id": "RF-8pKxKniG_",
        "colab_type": "text"
      },
      "source": [
        "You can import files from your Google Drive. Very convenient!\n"
      ]
    },
    {
      "cell_type": "code",
      "metadata": {
        "id": "vw-xQRf-3cRr",
        "colab_type": "code",
        "outputId": "3b3756c1-2f4a-4bc2-83f4-85c4d957b5bd",
        "colab": {
          "base_uri": "https://localhost:8080/",
          "height": 121
        }
      },
      "source": [
        "from google.colab import drive\n",
        "drive.mount('drive')"
      ],
      "execution_count": 0,
      "outputs": [
        {
          "output_type": "stream",
          "text": [
            "Go to this URL in a browser: https://accounts.google.com/o/oauth2/auth?client_id=947318989803-6bn6qk8qdgf4n4g3pfee6491hc0brc4i.apps.googleusercontent.com&redirect_uri=urn%3aietf%3awg%3aoauth%3a2.0%3aoob&response_type=code&scope=email%20https%3a%2f%2fwww.googleapis.com%2fauth%2fdocs.test%20https%3a%2f%2fwww.googleapis.com%2fauth%2fdrive%20https%3a%2f%2fwww.googleapis.com%2fauth%2fdrive.photos.readonly%20https%3a%2f%2fwww.googleapis.com%2fauth%2fpeopleapi.readonly\n",
            "\n",
            "Enter your authorization code:\n",
            "··········\n",
            "Mounted at drive\n"
          ],
          "name": "stdout"
        }
      ]
    },
    {
      "cell_type": "code",
      "metadata": {
        "id": "gRniyBz2g4ZY",
        "colab_type": "code",
        "outputId": "709805e9-684d-4301-b068-a91c71ca706d",
        "colab": {
          "base_uri": "https://localhost:8080/",
          "height": 262
        }
      },
      "source": [
        "titanic_data = pd.read_csv('/content/drive/My Drive/new_workshop_data/cleaned_titanic_data.csv', sep=',')\n",
        "titanic_data.head()"
      ],
      "execution_count": 0,
      "outputs": [
        {
          "output_type": "execute_result",
          "data": {
            "text/html": [
              "<div>\n",
              "<style scoped>\n",
              "    .dataframe tbody tr th:only-of-type {\n",
              "        vertical-align: middle;\n",
              "    }\n",
              "\n",
              "    .dataframe tbody tr th {\n",
              "        vertical-align: top;\n",
              "    }\n",
              "\n",
              "    .dataframe thead th {\n",
              "        text-align: right;\n",
              "    }\n",
              "</style>\n",
              "<table border=\"1\" class=\"dataframe\">\n",
              "  <thead>\n",
              "    <tr style=\"text-align: right;\">\n",
              "      <th></th>\n",
              "      <th>Unnamed: 0</th>\n",
              "      <th>Survived</th>\n",
              "      <th>Pclass</th>\n",
              "      <th>Name</th>\n",
              "      <th>Sex</th>\n",
              "      <th>Age</th>\n",
              "      <th>SibSp</th>\n",
              "      <th>Parch</th>\n",
              "      <th>Ticket</th>\n",
              "      <th>Fare</th>\n",
              "      <th>port_Q</th>\n",
              "      <th>port_S</th>\n",
              "    </tr>\n",
              "  </thead>\n",
              "  <tbody>\n",
              "    <tr>\n",
              "      <th>0</th>\n",
              "      <td>0</td>\n",
              "      <td>0</td>\n",
              "      <td>3</td>\n",
              "      <td>Braund, Mr. Owen Harris</td>\n",
              "      <td>0</td>\n",
              "      <td>22.0</td>\n",
              "      <td>1</td>\n",
              "      <td>0</td>\n",
              "      <td>A/5 21171</td>\n",
              "      <td>7.2500</td>\n",
              "      <td>0</td>\n",
              "      <td>1</td>\n",
              "    </tr>\n",
              "    <tr>\n",
              "      <th>1</th>\n",
              "      <td>1</td>\n",
              "      <td>1</td>\n",
              "      <td>1</td>\n",
              "      <td>Cumings, Mrs. John Bradley (Florence Briggs Th...</td>\n",
              "      <td>1</td>\n",
              "      <td>38.0</td>\n",
              "      <td>1</td>\n",
              "      <td>0</td>\n",
              "      <td>PC 17599</td>\n",
              "      <td>71.2833</td>\n",
              "      <td>0</td>\n",
              "      <td>0</td>\n",
              "    </tr>\n",
              "    <tr>\n",
              "      <th>2</th>\n",
              "      <td>2</td>\n",
              "      <td>1</td>\n",
              "      <td>3</td>\n",
              "      <td>Heikkinen, Miss. Laina</td>\n",
              "      <td>1</td>\n",
              "      <td>26.0</td>\n",
              "      <td>0</td>\n",
              "      <td>0</td>\n",
              "      <td>STON/O2. 3101282</td>\n",
              "      <td>7.9250</td>\n",
              "      <td>0</td>\n",
              "      <td>1</td>\n",
              "    </tr>\n",
              "    <tr>\n",
              "      <th>3</th>\n",
              "      <td>3</td>\n",
              "      <td>1</td>\n",
              "      <td>1</td>\n",
              "      <td>Futrelle, Mrs. Jacques Heath (Lily May Peel)</td>\n",
              "      <td>1</td>\n",
              "      <td>35.0</td>\n",
              "      <td>1</td>\n",
              "      <td>0</td>\n",
              "      <td>113803</td>\n",
              "      <td>53.1000</td>\n",
              "      <td>0</td>\n",
              "      <td>1</td>\n",
              "    </tr>\n",
              "    <tr>\n",
              "      <th>4</th>\n",
              "      <td>4</td>\n",
              "      <td>0</td>\n",
              "      <td>3</td>\n",
              "      <td>Allen, Mr. William Henry</td>\n",
              "      <td>0</td>\n",
              "      <td>35.0</td>\n",
              "      <td>0</td>\n",
              "      <td>0</td>\n",
              "      <td>373450</td>\n",
              "      <td>8.0500</td>\n",
              "      <td>0</td>\n",
              "      <td>1</td>\n",
              "    </tr>\n",
              "  </tbody>\n",
              "</table>\n",
              "</div>"
            ],
            "text/plain": [
              "   Unnamed: 0  Survived  Pclass  ...     Fare  port_Q  port_S\n",
              "0           0         0       3  ...   7.2500       0       1\n",
              "1           1         1       1  ...  71.2833       0       0\n",
              "2           2         1       3  ...   7.9250       0       1\n",
              "3           3         1       1  ...  53.1000       0       1\n",
              "4           4         0       3  ...   8.0500       0       1\n",
              "\n",
              "[5 rows x 12 columns]"
            ]
          },
          "metadata": {
            "tags": []
          },
          "execution_count": 4
        }
      ]
    },
    {
      "cell_type": "markdown",
      "metadata": {
        "id": "6Honh1sanrMy",
        "colab_type": "text"
      },
      "source": [
        "We see an annoying column shows up when we read from our previously saved CSV file. Let's drop it!"
      ]
    },
    {
      "cell_type": "code",
      "metadata": {
        "id": "mCg8c4Rbkig3",
        "colab_type": "code",
        "colab": {}
      },
      "source": [
        "titanic_data.drop(columns=['Unnamed: 0'], inplace=True)"
      ],
      "execution_count": 0,
      "outputs": []
    },
    {
      "cell_type": "code",
      "metadata": {
        "id": "H82q05-blZT_",
        "colab_type": "code",
        "outputId": "858b9b33-dc35-49e9-832f-da222b876a5f",
        "colab": {
          "base_uri": "https://localhost:8080/",
          "height": 195
        }
      },
      "source": [
        "titanic_data.head()"
      ],
      "execution_count": 0,
      "outputs": [
        {
          "output_type": "execute_result",
          "data": {
            "text/html": [
              "<div>\n",
              "<style scoped>\n",
              "    .dataframe tbody tr th:only-of-type {\n",
              "        vertical-align: middle;\n",
              "    }\n",
              "\n",
              "    .dataframe tbody tr th {\n",
              "        vertical-align: top;\n",
              "    }\n",
              "\n",
              "    .dataframe thead th {\n",
              "        text-align: right;\n",
              "    }\n",
              "</style>\n",
              "<table border=\"1\" class=\"dataframe\">\n",
              "  <thead>\n",
              "    <tr style=\"text-align: right;\">\n",
              "      <th></th>\n",
              "      <th>Survived</th>\n",
              "      <th>Pclass</th>\n",
              "      <th>Name</th>\n",
              "      <th>Sex</th>\n",
              "      <th>Age</th>\n",
              "      <th>SibSp</th>\n",
              "      <th>Parch</th>\n",
              "      <th>Ticket</th>\n",
              "      <th>Fare</th>\n",
              "      <th>port_Q</th>\n",
              "      <th>port_S</th>\n",
              "    </tr>\n",
              "  </thead>\n",
              "  <tbody>\n",
              "    <tr>\n",
              "      <th>0</th>\n",
              "      <td>0</td>\n",
              "      <td>3</td>\n",
              "      <td>Braund, Mr. Owen Harris</td>\n",
              "      <td>0</td>\n",
              "      <td>22.0</td>\n",
              "      <td>1</td>\n",
              "      <td>0</td>\n",
              "      <td>A/5 21171</td>\n",
              "      <td>7.2500</td>\n",
              "      <td>0</td>\n",
              "      <td>1</td>\n",
              "    </tr>\n",
              "    <tr>\n",
              "      <th>1</th>\n",
              "      <td>1</td>\n",
              "      <td>1</td>\n",
              "      <td>Cumings, Mrs. John Bradley (Florence Briggs Th...</td>\n",
              "      <td>1</td>\n",
              "      <td>38.0</td>\n",
              "      <td>1</td>\n",
              "      <td>0</td>\n",
              "      <td>PC 17599</td>\n",
              "      <td>71.2833</td>\n",
              "      <td>0</td>\n",
              "      <td>0</td>\n",
              "    </tr>\n",
              "    <tr>\n",
              "      <th>2</th>\n",
              "      <td>1</td>\n",
              "      <td>3</td>\n",
              "      <td>Heikkinen, Miss. Laina</td>\n",
              "      <td>1</td>\n",
              "      <td>26.0</td>\n",
              "      <td>0</td>\n",
              "      <td>0</td>\n",
              "      <td>STON/O2. 3101282</td>\n",
              "      <td>7.9250</td>\n",
              "      <td>0</td>\n",
              "      <td>1</td>\n",
              "    </tr>\n",
              "    <tr>\n",
              "      <th>3</th>\n",
              "      <td>1</td>\n",
              "      <td>1</td>\n",
              "      <td>Futrelle, Mrs. Jacques Heath (Lily May Peel)</td>\n",
              "      <td>1</td>\n",
              "      <td>35.0</td>\n",
              "      <td>1</td>\n",
              "      <td>0</td>\n",
              "      <td>113803</td>\n",
              "      <td>53.1000</td>\n",
              "      <td>0</td>\n",
              "      <td>1</td>\n",
              "    </tr>\n",
              "    <tr>\n",
              "      <th>4</th>\n",
              "      <td>0</td>\n",
              "      <td>3</td>\n",
              "      <td>Allen, Mr. William Henry</td>\n",
              "      <td>0</td>\n",
              "      <td>35.0</td>\n",
              "      <td>0</td>\n",
              "      <td>0</td>\n",
              "      <td>373450</td>\n",
              "      <td>8.0500</td>\n",
              "      <td>0</td>\n",
              "      <td>1</td>\n",
              "    </tr>\n",
              "  </tbody>\n",
              "</table>\n",
              "</div>"
            ],
            "text/plain": [
              "   Survived  Pclass  ... port_Q  port_S\n",
              "0         0       3  ...      0       1\n",
              "1         1       1  ...      0       0\n",
              "2         1       3  ...      0       1\n",
              "3         1       1  ...      0       1\n",
              "4         0       3  ...      0       1\n",
              "\n",
              "[5 rows x 11 columns]"
            ]
          },
          "metadata": {
            "tags": []
          },
          "execution_count": 6
        }
      ]
    },
    {
      "cell_type": "code",
      "metadata": {
        "id": "581geCzVTDCP",
        "colab_type": "code",
        "colab": {}
      },
      "source": [
        "titanic_data.drop(columns=['Name','Ticket'], inplace=True)"
      ],
      "execution_count": 0,
      "outputs": []
    },
    {
      "cell_type": "markdown",
      "metadata": {
        "id": "gKSrFRpZoZ7i",
        "colab_type": "text"
      },
      "source": [
        "**Training and Test Split**\n"
      ]
    },
    {
      "cell_type": "markdown",
      "metadata": {
        "id": "Gah9QR7an4mf",
        "colab_type": "text"
      },
      "source": [
        "It's a good idea to split our data into a training and testing set. The idea is that once we build our model using the training data, we can evaluate its performance on the test data. We can use this information to check if our model is underfitting/overfitting or if it generalizes well to unseen data."
      ]
    },
    {
      "cell_type": "markdown",
      "metadata": {
        "id": "PdIIiC_npX48",
        "colab_type": "text"
      },
      "source": [
        "One simple way to have a 75:25 split for training and test data. The downside, of course, is that our model has access to less data while training. On the bright side, the test data gives us an indication of how well our model might do in the real world, so we're not taken by surprise later!\n",
        "*Why is training error not a good estimate of the model's performance?*"
      ]
    },
    {
      "cell_type": "code",
      "metadata": {
        "id": "0YMW6u2Bmxk2",
        "colab_type": "code",
        "colab": {}
      },
      "source": [
        "from sklearn.model_selection import train_test_split\n",
        "import random\n",
        "np.random.seed(1)\n",
        "\n",
        "train, test = train_test_split(titanic_data, test_size=0.25)"
      ],
      "execution_count": 0,
      "outputs": []
    },
    {
      "cell_type": "markdown",
      "metadata": {
        "id": "VxY6RBTDr-0E",
        "colab_type": "text"
      },
      "source": [
        "It's now important to split both our training and test data into 'X' and 'y': the features and the labels, before we can run logistic regression.\n",
        "(Warning: Do not shuffle your data after this split! That would result in meaningless data)"
      ]
    },
    {
      "cell_type": "code",
      "metadata": {
        "id": "EWh4cpNor9qT",
        "colab_type": "code",
        "colab": {}
      },
      "source": [
        "trainX = train.drop('Survived', axis=1)\n",
        "trainY = train['Survived']\n",
        "\n",
        "testX = test.drop('Survived', axis=1)\n",
        "testY = test['Survived']"
      ],
      "execution_count": 0,
      "outputs": []
    },
    {
      "cell_type": "code",
      "metadata": {
        "id": "TBu-KKCxteGW",
        "colab_type": "code",
        "outputId": "52b7252a-1056-413f-a2a6-4c370a03d0b9",
        "colab": {
          "base_uri": "https://localhost:8080/",
          "height": 195
        }
      },
      "source": [
        "trainX.head()"
      ],
      "execution_count": 0,
      "outputs": [
        {
          "output_type": "execute_result",
          "data": {
            "text/html": [
              "<div>\n",
              "<style scoped>\n",
              "    .dataframe tbody tr th:only-of-type {\n",
              "        vertical-align: middle;\n",
              "    }\n",
              "\n",
              "    .dataframe tbody tr th {\n",
              "        vertical-align: top;\n",
              "    }\n",
              "\n",
              "    .dataframe thead th {\n",
              "        text-align: right;\n",
              "    }\n",
              "</style>\n",
              "<table border=\"1\" class=\"dataframe\">\n",
              "  <thead>\n",
              "    <tr style=\"text-align: right;\">\n",
              "      <th></th>\n",
              "      <th>Pclass</th>\n",
              "      <th>Sex</th>\n",
              "      <th>Age</th>\n",
              "      <th>SibSp</th>\n",
              "      <th>Parch</th>\n",
              "      <th>Fare</th>\n",
              "      <th>port_Q</th>\n",
              "      <th>port_S</th>\n",
              "    </tr>\n",
              "  </thead>\n",
              "  <tbody>\n",
              "    <tr>\n",
              "      <th>125</th>\n",
              "      <td>2</td>\n",
              "      <td>1</td>\n",
              "      <td>30.0</td>\n",
              "      <td>0</td>\n",
              "      <td>0</td>\n",
              "      <td>13.0000</td>\n",
              "      <td>0</td>\n",
              "      <td>1</td>\n",
              "    </tr>\n",
              "    <tr>\n",
              "      <th>644</th>\n",
              "      <td>3</td>\n",
              "      <td>0</td>\n",
              "      <td>24.0</td>\n",
              "      <td>0</td>\n",
              "      <td>0</td>\n",
              "      <td>7.7958</td>\n",
              "      <td>0</td>\n",
              "      <td>1</td>\n",
              "    </tr>\n",
              "    <tr>\n",
              "      <th>627</th>\n",
              "      <td>2</td>\n",
              "      <td>0</td>\n",
              "      <td>27.0</td>\n",
              "      <td>0</td>\n",
              "      <td>0</td>\n",
              "      <td>13.0000</td>\n",
              "      <td>0</td>\n",
              "      <td>1</td>\n",
              "    </tr>\n",
              "    <tr>\n",
              "      <th>218</th>\n",
              "      <td>3</td>\n",
              "      <td>0</td>\n",
              "      <td>31.0</td>\n",
              "      <td>0</td>\n",
              "      <td>0</td>\n",
              "      <td>7.7750</td>\n",
              "      <td>0</td>\n",
              "      <td>1</td>\n",
              "    </tr>\n",
              "    <tr>\n",
              "      <th>173</th>\n",
              "      <td>1</td>\n",
              "      <td>0</td>\n",
              "      <td>51.0</td>\n",
              "      <td>0</td>\n",
              "      <td>1</td>\n",
              "      <td>61.3792</td>\n",
              "      <td>0</td>\n",
              "      <td>0</td>\n",
              "    </tr>\n",
              "  </tbody>\n",
              "</table>\n",
              "</div>"
            ],
            "text/plain": [
              "     Pclass  Sex   Age  SibSp  Parch     Fare  port_Q  port_S\n",
              "125       2    1  30.0      0      0  13.0000       0       1\n",
              "644       3    0  24.0      0      0   7.7958       0       1\n",
              "627       2    0  27.0      0      0  13.0000       0       1\n",
              "218       3    0  31.0      0      0   7.7750       0       1\n",
              "173       1    0  51.0      0      1  61.3792       0       0"
            ]
          },
          "metadata": {
            "tags": []
          },
          "execution_count": 42
        }
      ]
    },
    {
      "cell_type": "code",
      "metadata": {
        "id": "tCSIF7C_thHc",
        "colab_type": "code",
        "outputId": "e7dee0c0-a852-402e-eb87-909a39668ba0",
        "colab": {
          "base_uri": "https://localhost:8080/",
          "height": 118
        }
      },
      "source": [
        "trainY.head()"
      ],
      "execution_count": 0,
      "outputs": [
        {
          "output_type": "execute_result",
          "data": {
            "text/plain": [
              "125    1\n",
              "644    0\n",
              "627    0\n",
              "218    0\n",
              "173    0\n",
              "Name: Survived, dtype: int64"
            ]
          },
          "metadata": {
            "tags": []
          },
          "execution_count": 43
        }
      ]
    },
    {
      "cell_type": "code",
      "metadata": {
        "id": "DahtcL3aS-wF",
        "colab_type": "code",
        "colab": {}
      },
      "source": [
        ""
      ],
      "execution_count": 0,
      "outputs": []
    },
    {
      "cell_type": "markdown",
      "metadata": {
        "id": "RJRCtTpMrj8j",
        "colab_type": "text"
      },
      "source": [
        "**Implementing Logistic Regression!**"
      ]
    },
    {
      "cell_type": "code",
      "metadata": {
        "id": "5gthkoblq7Ts",
        "colab_type": "code",
        "outputId": "106fcbb3-a58f-4cdf-e623-80b63ab7dad6",
        "colab": {
          "base_uri": "https://localhost:8080/",
          "height": 34
        }
      },
      "source": [
        "LR_Model = LogisticRegression(max_iter = 300) #, copy paste error\n",
        "LR_Model.fit(trainX,trainY)\n",
        "trainY_pred = LR_Model.predict(trainX)\n",
        "acc = metrics.accuracy_score(trainY, trainY_pred, normalize=True)\n",
        "print('Logistic Regression:\\t-- train acc %.3f' % acc)"
      ],
      "execution_count": 0,
      "outputs": [
        {
          "output_type": "stream",
          "text": [
            "Logistic Regression:\t-- train acc 0.802\n"
          ],
          "name": "stdout"
        }
      ]
    },
    {
      "cell_type": "markdown",
      "metadata": {
        "id": "jRJbfQe7vDhM",
        "colab_type": "text"
      },
      "source": [
        "Of course, like we mentioned before, the training accuracy doesn't tell us all that much. Let's see how it does on the test set! (Dw, the code is pretty much the same)"
      ]
    },
    {
      "cell_type": "code",
      "metadata": {
        "id": "K41IprUWvRYx",
        "colab_type": "code",
        "outputId": "b8cdc879-5fd2-4b47-a17e-ac7253471e36",
        "colab": {
          "base_uri": "https://localhost:8080/",
          "height": 34
        }
      },
      "source": [
        "testY_pred = LR_Model.predict(testX)\n",
        "acc = metrics.accuracy_score(testY, testY_pred, normalize=True)\n",
        "print('Logistic Regression:\\t-- test acc %.3f' % acc)"
      ],
      "execution_count": 0,
      "outputs": [
        {
          "output_type": "stream",
          "text": [
            "Logistic Regression:\t-- test acc 0.798\n"
          ],
          "name": "stdout"
        }
      ]
    },
    {
      "cell_type": "markdown",
      "metadata": {
        "id": "uEmCr_euvkTA",
        "colab_type": "text"
      },
      "source": [
        "This is pretty good! Our test accuracy is pretty close to our training accuracy. This is an indication that our model has generalized well. We have a good ML model on our hands! Or do we?"
      ]
    },
    {
      "cell_type": "markdown",
      "metadata": {
        "id": "ORmodwYru-ao",
        "colab_type": "text"
      },
      "source": [
        "(Discussion about biased data sets, and always predicting the positive class when 99% of the data is from the positive class) "
      ]
    },
    {
      "cell_type": "markdown",
      "metadata": {
        "id": "_Hk3S6eSwgwl",
        "colab_type": "text"
      },
      "source": [
        "To verify that our model is actually doing something, it's helpful to think about precision and recall.\n",
        "Precision = true positives / (true positives + false positives)\n",
        "Recall = true positives / (true positives + false negatives)\n",
        "(Discussion about why these are useful metrics)"
      ]
    },
    {
      "cell_type": "code",
      "metadata": {
        "id": "3d4CujLHxXnt",
        "colab_type": "code",
        "outputId": "3fd11761-9334-4093-fc6e-3d3286efa3f9",
        "colab": {
          "base_uri": "https://localhost:8080/",
          "height": 50
        }
      },
      "source": [
        "prec = metrics.precision_score(testY,testY_pred)\n",
        "print('Precision is:\\t acc %.3f' % prec)\n",
        "rec = metrics.recall_score(testY,testY_pred)\n",
        "print('Recall is:\\t acc %.3f' % rec)"
      ],
      "execution_count": 0,
      "outputs": [
        {
          "output_type": "stream",
          "text": [
            "Precision is:\t acc 0.744\n",
            "Recall is:\t acc 0.736\n"
          ],
          "name": "stdout"
        }
      ]
    },
    {
      "cell_type": "code",
      "metadata": {
        "id": "HET2PqlTfPgv",
        "colab_type": "code",
        "colab": {}
      },
      "source": [
        "#Discussion about metrics and how to find the best one\n",
        "#Things to do: CV to find best metric (default: l2 norm)\n",
        "#K Fold CV\n",
        "#End session by introducing decision trees"
      ],
      "execution_count": 0,
      "outputs": []
    }
  ]
}